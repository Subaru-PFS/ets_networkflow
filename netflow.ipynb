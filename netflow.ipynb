{
 "cells": [
  {
   "cell_type": "code",
   "execution_count": 64,
   "metadata": {
    "collapsed": true,
    "deletable": true,
    "editable": true
   },
   "outputs": [],
   "source": [
    "from matplotlib import pyplot as plt\n",
    "%matplotlib inline"
   ]
  },
  {
   "cell_type": "code",
   "execution_count": 65,
   "metadata": {
    "collapsed": true,
    "deletable": true,
    "editable": true
   },
   "outputs": [],
   "source": [
    "def pp(s):\n",
    "    print(s)\n",
    "    return s + \"\\n\""
   ]
  },
  {
   "cell_type": "markdown",
   "metadata": {
    "deletable": true,
    "editable": true
   },
   "source": [
    "# Datamodel for the flow network"
   ]
  },
  {
   "cell_type": "code",
   "execution_count": 66,
   "metadata": {
    "collapsed": false,
    "deletable": true,
    "editable": true
   },
   "outputs": [
    {
     "name": "stdout",
     "output_type": "stream",
     "text": [
      "The autoreload extension is already loaded. To reload it, use:\n",
      "  %reload_ext autoreload\n"
     ]
    }
   ],
   "source": [
    "# Add current working directory to pythonpath\n",
    "import sys\n",
    "sys.path.append(\"/Users/mxhf/ownCloudRZG/work/MPE/pfs/ETS/real_test\")\n",
    "\n",
    "# Next two lines forc outomatic reload of loaded module. Convenient if\n",
    "# one is still fiddeling with them.\n",
    "%load_ext autoreload\n",
    "%autoreload 2\n",
    "\n",
    "import pfs_netflow.datamodel as dm"
   ]
  },
  {
   "cell_type": "markdown",
   "metadata": {
    "deletable": true,
    "editable": true
   },
   "source": [
    "# Read the catalogs, compute visibility ... "
   ]
  },
  {
   "cell_type": "code",
   "execution_count": 67,
   "metadata": {
    "collapsed": true,
    "deletable": true,
    "editable": true
   },
   "outputs": [],
   "source": [
    "BLOCKLENGTH = 450. # block exposure time in s, to simulate three consequtive exposures\n",
    "#BLOCKLENGTH = 900. # block exposure time in s"
   ]
  },
  {
   "cell_type": "code",
   "execution_count": 68,
   "metadata": {
    "collapsed": true,
    "deletable": true,
    "editable": true
   },
   "outputs": [],
   "source": [
    "# Define target lists.\n",
    "fscience_targets = \"../pfs_target_list/pfs_preliminary_target_cosmology.dat\"\n",
    "fcal_stars       = \"../pfs_target_list/pfs_preliminary_target_cosmology_fcstars.dat\"\n",
    "fsky_pos         = \"../pfs_target_list/pfs_preliminary_target_cosmology_sky.dat\"\n",
    "\n",
    "# Load target lists.\n",
    "from astropy.io import ascii\n",
    "\n",
    "science_targets = ascii.read(fscience_targets)\n",
    "\n",
    "cal_stars = ascii.read(fcal_stars)\n",
    "\n",
    "sky_pos = ascii.read(fsky_pos)\n",
    "\n",
    "# Conversion of column names, this should not be necessary anymore in future versions.\n",
    "for t in [science_targets, cal_stars, sky_pos]:\n",
    "    t['R'].name = 'RA'\n",
    "    t['Dec'].name = 'DEC'\n",
    "    t['Exposure'].name = 'EXP_TIME'"
   ]
  },
  {
   "cell_type": "code",
   "execution_count": 69,
   "metadata": {
    "collapsed": false,
    "deletable": true,
    "editable": true
   },
   "outputs": [],
   "source": [
    "# Convert data to lists for ETS.\n",
    "import numpy as np\n",
    "from numpy import hstack\n",
    "from numpy import cos, deg2rad, sqrt\n",
    "from numpy import unique, array\n",
    "\n",
    "\n",
    "ID         = hstack([science_targets['ID'],cal_stars['ID'],sky_pos['ID']])\n",
    "ra         = hstack([science_targets['RA'],cal_stars['RA'],sky_pos['RA']])\n",
    "dec        = hstack([science_targets['DEC'],cal_stars['DEC'],sky_pos['DEC']])\n",
    "exp_times  = hstack([science_targets['EXP_TIME'],cal_stars['EXP_TIME'],sky_pos['EXP_TIME']])\n",
    "priorities = hstack([science_targets['Priority'],cal_stars['Priority'],sky_pos['Priority']])\n",
    "\n",
    "# make up target classes from target type and priority\n",
    "types = [\"sci\"]*len(science_targets) + [\"cal\"]*len(cal_stars) + [\"sky\"]*len(sky_pos)\n",
    "class_dict = {}\n",
    "for id,t,p in zip(ID, types, priorities):\n",
    "    class_dict[id] = '{}_P{}'.format(t, p)\n",
    "    \n",
    "# limit targets to a smaller field of view\n",
    "pointing_RA, pointing_DEC = 33.7035, -3.8455\n",
    "DRMAX_SQ = .75**2\n",
    "DRMAX_SQ = (2700./3600.)**2.\n",
    "\n",
    "dra = (ra - pointing_RA)*cos(deg2rad(dec))\n",
    "ddec = dec - pointing_DEC\n",
    "ii = (dra**2. + ddec **2.) <= DRMAX_SQ\n",
    "\n",
    "ID = ID[ii].tolist()\n",
    "ra = ra[ii].tolist()\n",
    "dec = dec[ii].tolist()\n",
    "exp_times = exp_times[ii].tolist()\n",
    "priorities = priorities[ii].tolist()\n",
    "types = np.array(types)[ii].tolist()\n",
    "\n",
    "c = np.array([ class_dict[t][:3] for t in ID ])\n",
    "ii_sci = c == 'sci'\n",
    "ii_cal = c == 'cal'\n",
    "ii_sky = c == 'sky'"
   ]
  },
  {
   "cell_type": "code",
   "execution_count": 70,
   "metadata": {
    "collapsed": false,
    "deletable": true,
    "editable": true
   },
   "outputs": [],
   "source": [
    "# assign random priorities between 1 and 3 for the  science targets\n",
    "from numpy import random\n",
    "from numpy import array\n",
    "\n",
    "random.seed(42)\n",
    "\n",
    "N =  sum(ii_sci) \n",
    "\n",
    "newpri = array( random.uniform(1.,4., size=N) , dtype=int)\n",
    "priorities = np.array(priorities)\n",
    "\n",
    "priorities[ii_sci] = newpri\n",
    "priorities = priorities.tolist()"
   ]
  },
  {
   "cell_type": "code",
   "execution_count": 71,
   "metadata": {
    "collapsed": false,
    "deletable": true,
    "editable": true
   },
   "outputs": [
    {
     "data": {
      "text/plain": [
       "<matplotlib.text.Text at 0x11702b790>"
      ]
     },
     "execution_count": 71,
     "metadata": {},
     "output_type": "execute_result"
    },
    {
     "data": {
      "image/png": "[encoded data removed]",
      "text/plain": [
       "<matplotlib.figure.Figure at 0x11efeee90>"
      ]
     },
     "metadata": {},
     "output_type": "display_data"
    }
   ],
   "source": [
    "# plot targets on sky\n",
    "f = plt.figure(figsize=[10,10])\n",
    "plt.plot(np.array(ra)[ii_sci],np.array(dec)[ii_sci],'.', ms=1, label='science')\n",
    "plt.plot(np.array(ra)[ii_sky],np.array(dec)[ii_sky],'b.' , label='sky')\n",
    "plt.plot(np.array(ra)[ii_cal],np.array(dec)[ii_cal],'yo' , label='cal. star')\n",
    "plt.axis('equal')\n",
    "l = plt.legend()\n",
    "l.draw_frame(False)\n",
    "plt.xlabel(\"RA [Deg]\")\n",
    "plt.ylabel(\"DEC [Deg]\")"
   ]
  },
  {
   "cell_type": "code",
   "execution_count": 72,
   "metadata": {
    "collapsed": false,
    "deletable": true,
    "editable": true
   },
   "outputs": [
    {
     "name": "stdout",
     "output_type": "stream",
     "text": [
      "Required revisits [2]\n"
     ]
    }
   ],
   "source": [
    "# compute number of required visists from exposure times\n",
    "# and block length\n",
    "nreqv_dict = {}\n",
    "for id,t,nrv in zip(ID, types, array(exp_times)/BLOCKLENGTH):\n",
    "    nreqv_dict[id] = int(nrv)\n",
    "    \n",
    "print \"Required revisits\", unique( [v for v in nreqv_dict.itervalues()] )"
   ]
  },
  {
   "cell_type": "code",
   "execution_count": 73,
   "metadata": {
    "collapsed": false,
    "deletable": true,
    "editable": true
   },
   "outputs": [],
   "source": [
    "sys.path.append(\"/Users/mxhf/ownCloudRZG/work/MPE/pfs/src/ets_fiber_assigner\")\n",
    "\n",
    "import pyETS\n",
    "import pycconv\n",
    "\n",
    "# Temporary, very crude method to convert Ra/Dec pairs to x/y coordinates\n",
    "# on the focal plane. To be replaced by the official functionality once\n",
    "# available.\n",
    "# All input angles are expected in degrees.\n",
    "def radec2pos(ras, decs, raTel=None, decTel=None, posang=0.,\n",
    "              time=\"2016-04-03T08:00:00Z\"):\n",
    "    if raTel is None:\n",
    "        raTel = np.average(ras)\n",
    "    if decTel is None:\n",
    "        decTel = np.average(decs)\n",
    "    return pycconv.cconv(ras,decs,raTel,decTel,posang,time)\n",
    "\n",
    "# get a data structure containing the idealized cobras\n",
    "ets_cobras = pyETS.getAllCobras()\n",
    "\n",
    "# Parse a target file and return the quantities of interest\n",
    "ets_target_pos = radec2pos(ra,dec)\n",
    "\n",
    "# get a list of targets, and a list of Cobras that can observe them\n",
    "# keys contain object index\n",
    "# values contain indices of cobras that can observe that object.\n",
    "visibility_map = pyETS.getVis(ets_target_pos,ets_cobras)"
   ]
  },
  {
   "cell_type": "code",
   "execution_count": 74,
   "metadata": {
    "collapsed": false,
    "deletable": true,
    "editable": true
   },
   "outputs": [],
   "source": [
    "# perform target assignment using the \"draining\" algorithm, and return the list\n",
    "# of assigned targets and which cobras were used to observe them.\n",
    "#res = pyETS.getObs(ets_target_pos,exp_times,priorities,ets_cobras,\"draining_closest\")"
   ]
  },
  {
   "cell_type": "code",
   "execution_count": 75,
   "metadata": {
    "collapsed": false,
    "deletable": true,
    "editable": true
   },
   "outputs": [],
   "source": [
    "#Interface to the new ETS, convert cobras, visibilities and targets to old style format\n",
    "\n",
    "# obtain cobra centers in old ETS dictionary style\n",
    "cobras = {}\n",
    "for i,c in enumerate(ets_cobras):\n",
    "        x,y = (ets_cobras[c][0],ets_cobras[c][1])\n",
    "        cobras[\"{:d}\".format(i)] = [x,y]\n",
    "\n",
    "# obtain target positions in old ETS dictionary style\n",
    "targets = {}\n",
    "for i,c in enumerate(ets_target_pos):\n",
    "        x,y = np.real(c),np.imag(c)\n",
    "        targets[ID[i]] = [float(x),float(y)]\n",
    "\n",
    "# obtain visibilities in old ETS dictionary style\n",
    "visibilities = {}     \n",
    "for v in visibility_map:\n",
    "    t = ID[v]\n",
    "    cc = [\"{:d}\".format(c) for c in visibility_map[v]]\n",
    "    visibilities[t] = cc\n",
    "    "
   ]
  },
  {
   "cell_type": "code",
   "execution_count": 76,
   "metadata": {
    "collapsed": false,
    "deletable": true,
    "editable": true
   },
   "outputs": [
    {
     "name": "stdout",
     "output_type": "stream",
     "text": [
      "['cal_P1' 'sci_P1' 'sky_P1']\n"
     ]
    }
   ],
   "source": [
    "# Assign targetclass labels according to target type and priority\n",
    "from numpy import unique\n",
    "\n",
    "# Build dict that holds class descriptor string for each target.\n",
    "# This is needed later because ETS does not preserve the order.\n",
    "tclasses =   [class_dict[t] for t in visibilities]\n",
    "print(unique(tclasses))\n",
    "\n",
    "# Build dict that holds required number of visits each target.\n",
    "nreqvisits = [nreqv_dict[t] for t in targets]"
   ]
  },
  {
   "cell_type": "code",
   "execution_count": 77,
   "metadata": {
    "collapsed": false,
    "deletable": true,
    "editable": true
   },
   "outputs": [],
   "source": [
    "# Compute a few statistics:\n",
    "# Number of rachable targets by type and\n",
    "# number of cobras that can observe any target.\n",
    "def invert_vis(visibilities):\n",
    "    \"\"\"\n",
    "    Invert visibility map, i.e. for each cobra list the observable targets\n",
    "    \"\"\"\n",
    "    ivisibilities = {}\n",
    "\n",
    "    cnt = 0\n",
    "    for v in visibilities:\n",
    "        t = v\n",
    "        cc = visibilities[v]\n",
    "\n",
    "        for c in cc:\n",
    "            if ivisibilities.has_key(c):\n",
    "                ivisibilities[c].append(v)\n",
    "            else:\n",
    "                ivisibilities[c] = [v]\n",
    "\n",
    "    return ivisibilities\n",
    "\n",
    "ivisibilities = invert_vis(visibilities)           "
   ]
  },
  {
   "cell_type": "code",
   "execution_count": 78,
   "metadata": {
    "collapsed": false,
    "deletable": true,
    "editable": true
   },
   "outputs": [
    {
     "name": "stdout",
     "output_type": "stream",
     "text": [
      "12547 targets positions in total.\n",
      "21 cal. targets in total.\n",
      "557 sky positions in total.\n",
      "2359 cobras have at least one target in reach.\n",
      "8116 science targets\n",
      "16 calibration targets, and \n",
      "353 sky positions are in reach of at least one cobra.\n"
     ]
    }
   ],
   "source": [
    "nsci_observable = 0\n",
    "ncal_observable = 0\n",
    "nsky_observable = 0\n",
    "\n",
    "for tid,v in visibilities.iteritems():\n",
    "    if len(v) > 0:\n",
    "        if class_dict[tid][:3] == 'cal':\n",
    "            ncal_observable += 1\n",
    "        elif class_dict[tid][:3] == 'sky':\n",
    "            nsky_observable += 1\n",
    "        elif class_dict[tid][:3] == 'sci':\n",
    "            nsci_observable += 1\n",
    "        #break\n",
    "            \n",
    "            \n",
    "print(\"{} targets positions in total.\".format(sum(ii_sci) ))\n",
    "print(\"{} cal. targets in total.\".format(sum(ii_cal) ))\n",
    "print(\"{} sky positions in total.\".format(sum(ii_sky) ))\n",
    "print(\"{} cobras have at least one target in reach.\".format(len(ivisibilities)))\n",
    "print(\"{} science targets\\n{} calibration targets, \\\n",
    "and \\n{} sky positions are in reach of at least one cobra.\".format(nsci_observable, ncal_observable, nsky_observable))  "
   ]
  },
  {
   "cell_type": "markdown",
   "metadata": {
    "deletable": true,
    "editable": true
   },
   "source": [
    "# run the ETS solver"
   ]
  },
  {
   "cell_type": "code",
   "execution_count": 79,
   "metadata": {
    "collapsed": true,
    "deletable": true,
    "editable": true
   },
   "outputs": [],
   "source": [
    "def fil(xx,bb):\n",
    "    \"\"\"\n",
    "    Takes a list of objects and a boolean list of same length.\n",
    "    Retruns a list with all thos object for which the boolean\n",
    "    input list had a True.\n",
    "    \"\"\"\n",
    "    new = []\n",
    "    for x,b in zip(xx,bb):\n",
    "        if b: new.append(x)\n",
    "    return new"
   ]
  },
  {
   "cell_type": "code",
   "execution_count": 80,
   "metadata": {
    "collapsed": false,
    "deletable": true,
    "editable": true,
    "scrolled": false
   },
   "outputs": [
    {
     "name": "stdout",
     "output_type": "stream",
     "text": [
      "Visit 0\n",
      " Number of remaining targets to observe: 13125\n",
      " Time to solve: 2.5777e-02 s\n",
      " Observed 2019 science targets, 16 calibration targets and 322 sky positions\n",
      " Observed 2019 science targets in total.\n",
      "\n",
      "Visit 1\n",
      " Number of remaining targets to observe: 11106\n",
      " Time to solve: 2.2911e-02 s\n",
      " Observed 2023 science targets, 16 calibration targets and 316 sky positions\n",
      " Observed 3881 science targets in total.\n",
      "\n",
      "Visit 2\n",
      " Number of remaining targets to observe: 9244\n",
      " Time to solve: 2.2092e-02 s\n",
      " Observed 2029 science targets, 14 calibration targets and 310 sky positions\n",
      " Observed 5389 science targets in total.\n",
      "\n",
      "Visit 3\n",
      " Number of remaining targets to observe: 7736\n",
      " Time to solve: 2.3261e-02 s\n",
      " Observed 2031 science targets, 16 calibration targets and 309 sky positions\n",
      " Observed 6394 science targets in total.\n",
      "\n",
      "Visit 4\n",
      " Number of remaining targets to observe: 6731\n",
      " Time to solve: 2.2348e-02 s\n",
      " Observed 2025 science targets, 16 calibration targets and 316 sky positions\n",
      " Observed 6892 science targets in total.\n",
      "\n",
      "Visit 5\n",
      " Number of remaining targets to observe: 6233\n",
      " Time to solve: 2.3908e-02 s\n",
      " Observed 2025 science targets, 16 calibration targets and 316 sky positions\n",
      " Observed 7115 science targets in total.\n",
      "\n",
      "Visit 6\n",
      " Number of remaining targets to observe: 6010\n",
      " Time to solve: 2.2067e-02 s\n",
      " Observed 2022 science targets, 16 calibration targets and 319 sky positions\n",
      " Observed 7201 science targets in total.\n",
      "\n",
      "Visit 7\n",
      " Number of remaining targets to observe: 5924\n",
      " Time to solve: 2.2069e-02 s\n",
      " Observed 2019 science targets, 16 calibration targets and 322 sky positions\n",
      " Observed 7226 science targets in total.\n",
      "\n",
      "Visit 8\n",
      " Number of remaining targets to observe: 5899\n",
      " Time to solve: 2.2039e-02 s\n",
      " Observed 2019 science targets, 16 calibration targets and 322 sky positions\n",
      " Observed 7236 science targets in total.\n",
      "\n",
      "Visit 9\n",
      " Number of remaining targets to observe: 5889\n",
      " Time to solve: 2.4498e-02 s\n",
      " Observed 2019 science targets, 16 calibration targets and 322 sky positions\n",
      " Observed 7238 science targets in total.\n",
      "\n"
     ]
    }
   ],
   "source": [
    "import numpy as np\n",
    "import time\n",
    "    \n",
    "ALGORITHM = \"draining_closest\"\n",
    "ALGORITHM = \"naive\"\n",
    "ALGORITHM = \"draining\"\n",
    "ALGORITHM = \"new\"\n",
    "\n",
    "\n",
    "NVISISTS = 10\n",
    "ii = np.full_like(ID, True, dtype=bool)\n",
    "\n",
    "# set priorities \n",
    "priorities2 = np.array(priorities)\n",
    "priorities2[ii_sci] = 5\n",
    "priorities2[~ii_sci] = 1\n",
    "priorities2 = priorities2.tolist()\n",
    "\n",
    "with open(\"ets_results_{}.txt\".format(ALGORITHM), 'w') as f:\n",
    "    s = \"# algorithm: {}\\n\".format(ALGORITHM)\n",
    "    s += \"# total number of vistis: {}\\n\".format(NVISISTS)\n",
    "\n",
    "    s += \"# total number of observable science targets: {}\\n\".format(nsci_observable)\n",
    "    s += \"# total number of observable cal. targets: {}\\n\".format(ncal_observable)\n",
    "    s += \"# total number of observable sky positions: {}\\n\".format(nsky_observable)\n",
    "    s += \"{:3s} {:5s} {:5s} {:5s} {:5s}\\n\".format(\"V\", \"nsci\", \"ncal\", \"nsky\", \"nsci_total\")\n",
    "    f.write(s)\n",
    "    \n",
    "    for v in range(NVISISTS):\n",
    "        s= \"\"\n",
    "\n",
    "        print(\"Visit {}\".format(v))\n",
    "        print(\" Number of remaining targets to observe: {}\".format(sum(ii)))\n",
    "\n",
    "        #print(\" Number of remaining cal. targets to observe: {}\".format( sum( np.array(types)[ii] == \"cal\" ) ))\n",
    "        #print(\" Number of remaining sky targets to observe: {}\".format( sum( np.array(types)[ii] == \"sky\" ) ))\n",
    "\n",
    "        start_time = time.time()\n",
    "        # perform target assignment using the \"draining\" algorithm, and return the list\n",
    "        # of assigned targets and which cobras were used to observe them.\n",
    "        #res = pyETS.getObs(fil(ets_target_pos,ii),fil(exp_times,ii),fil(priorities,ii),ets_cobras,\"draining_closest\")\n",
    "        res = pyETS.getObs(ets_target_pos,exp_times,priorities2,ets_cobras,ALGORITHM)\n",
    "        time_to_build = time.time() - start_time\n",
    "        pp(\" Time to solve: {:.4e} s\".format(time_to_build))\n",
    "\n",
    "\n",
    "\n",
    "        # figure which out of all potential science targets have been observed\n",
    "        # and mark them as observed\n",
    "        for r in res:\n",
    "            if types[r] == 'sci':\n",
    "                priorities2[r] = 15\n",
    "                ii[r] = False\n",
    "\n",
    "        # compute some statistics\n",
    "        nsci_observed = sum(np.array(types)[ res.keys() ] == 'sci')\n",
    "        ncal_observed = sum(np.array(types)[ res.keys() ] == 'cal')\n",
    "        nsky_observed = sum(np.array(types)[ res.keys() ] == 'sky')\n",
    "        print(\" Observed {} science targets, {} calibration targets and {} sky positions\"\\\n",
    "              .format(nsci_observed, ncal_observed, nsky_observed))\n",
    "        N = len( res.items() )\n",
    "        #print(\" Observed {} targets.\".format(N))\n",
    "        nsci_observed_total = sum(ii_sci * ~ii)\n",
    "        print(\" Observed {} science targets in total.\".format(nsci_observed_total))\n",
    "        print(\"\")\n",
    "        \n",
    "        s += \"{:3d} {:5d} {:5d} {:5d} {:5d}\\n\".format(v, nsci_observed, ncal_observed, nsky_observed, nsci_observed_total)\n",
    "        f.write(s)\n",
    "\n",
    "#np.any( np.array(types)[ res.keys() ] == 'cal' )"
   ]
  },
  {
   "cell_type": "code",
   "execution_count": 81,
   "metadata": {
    "collapsed": false,
    "deletable": true,
    "editable": true
   },
   "outputs": [
    {
     "data": {
      "text/plain": [
       "<matplotlib.text.Text at 0x11efeee50>"
      ]
     },
     "execution_count": 81,
     "metadata": {},
     "output_type": "execute_result"
    },
    {
     "data": {
      "image/png": "[encoded data removed]",
      "text/plain": [
       "<matplotlib.figure.Figure at 0x120451710>"
      ]
     },
     "metadata": {},
     "output_type": "display_data"
    }
   ],
   "source": [
    "# Plot unobserved targets\n",
    "from numpy import array\n",
    "from matplotlib import pyplot as plt\n",
    "% matplotlib inline\n",
    "f = plt.figure(figsize=[5,5])\n",
    "\n",
    "#plt.plot(fil(ra,~ii), fil(dec,~ii), '.', color='k')\n",
    "plt.plot(fil(ra,ii), fil(dec,ii), '.', color='r', alpha=0.1)\n",
    "\n",
    "plt.ylabel('dec [Deg]')\n",
    "plt.xlabel('ra [Deg]')\n",
    "#plt.axis(\"equal\")\n",
    "\n",
    "#plt.xlim([33.25,34.74])\n",
    "#plt.ylim([-5.25,-3.75])"
   ]
  },
  {
   "cell_type": "markdown",
   "metadata": {
    "deletable": true,
    "editable": true
   },
   "source": [
    "# Execute netflow"
   ]
  },
  {
   "cell_type": "code",
   "execution_count": 82,
   "metadata": {
    "collapsed": false,
    "deletable": true,
    "editable": true,
    "slideshow": {
     "slide_type": "slide"
    }
   },
   "outputs": [],
   "source": [
    "from numpy import inf\n",
    "\n",
    "# Here we define the costs\n",
    "\n",
    "cost_dict = {}\n",
    "# For each target class we define the cost of non-observation\n",
    "# and non-completion as a two-tuple. The cost of non-completion \n",
    "# is typically larger as partial completion of objects shoudl be avoided.\n",
    "cost_dict['sci_P1'] = (1000.,1e9)\n",
    "cost_dict['sci_P2'] = (100.,1e9)\n",
    "cost_dict['sci_P3'] = (10.,1e9)\n",
    "\n",
    "# For the calibration objects we only define the cost\n",
    "# of non-observation as calibration targets only *need* to be visited once.\n",
    "# Note: The can of course be visited many times. But\n",
    "# for the calibration objects the real constraint is to have \n",
    "# at least N out of M observed in each exposure.\n",
    "# There is no requirement to revisit a specific calibration target.\n",
    "cost_dict['cal_P1'] = 10000.\n",
    "cost_dict['sky_P1'] = 10000.\n",
    "\n",
    "# Here we define how at least many objects out of each class we want observed.\n",
    "supply_dict = {}\n",
    "# By setting science object to inf, we say we want them all.\n",
    "supply_dict['sci_P1'] = inf\n",
    "supply_dict['sci_P2'] = inf\n",
    "supply_dict['sci_P3'] = inf\n",
    "\n",
    "# need one calibration star per exposure\n",
    "supply_dict['cal_P1'] = 16 # inf = try to get as amny as  possible\n",
    "# need one sky positions per exposure\n",
    "supply_dict['sky_P1'] = 322 # inf = try to get as amny as  possible\n",
    "\n"
   ]
  },
  {
   "cell_type": "code",
   "execution_count": 87,
   "metadata": {
    "collapsed": false,
    "deletable": true,
    "editable": true,
    "scrolled": false
   },
   "outputs": [
    {
     "name": "stdout",
     "output_type": "stream",
     "text": [
      "Creating graph ...\n",
      "buildSurveyPlan \n",
      "Done.\n",
      "Number of targets in TClass_sci_P1 is 12547.\n",
      "Number of observable targets in TClass_sci_P1 is 12547.\n",
      "Number of calibration stars: 16\n",
      "Number of observable calibration stars: 16\n",
      "Number of sky positions: 353\n",
      "Number of observable sky positions: 353\n"
     ]
    }
   ],
   "source": [
    "from numpy import inf\n",
    "from pfs_netflow.survey_plan import buildSurveyPlan\n",
    "from pfs_netflow.plotting import plotSurveyPlan\n",
    "\n",
    "NVISITS = 10\n",
    "COBRAS = []\n",
    "\n",
    "# intermediate example\n",
    "RMAX = 50.\n",
    "CENTER = [-5.,90.]\n",
    "name=\"intermediate\"\n",
    "\n",
    "\n",
    "# intermediate example\n",
    "RMAX = 60.\n",
    "CENTER = [0.,0.]\n",
    "name=\"intermediate\"\n",
    "\n",
    "# good minimal example\n",
    "RMAX = 10.\n",
    "CENTER = [0.,0.]\n",
    "name=\"minimal\"\n",
    "\n",
    "# do them all!\n",
    "RMAX = 300.\n",
    "CENTER = [-0.,0.]\n",
    "name=\"all\"\n",
    "\n",
    "\n",
    "\n",
    "print(\"Creating graph ...\")\n",
    "g = buildSurveyPlan(cobras, targets, nreqvisits, visibilities, class_dict, cost_dict, supply_dict, NVISITS, \\\n",
    "                    RMAX, CENTER, COBRAS = COBRAS)\n",
    "print(\"Done.\")\n",
    "\n",
    "for c in g.sciTargetClasses:\n",
    "    \n",
    "    nsci = 0\n",
    "    nsci_reachable = 0\n",
    "    for t in g.sciTargetClasses[c].targets.itervalues():\n",
    "        if t.outarcs != []:\n",
    "            nsci += 1\n",
    "            nsci_reachable += 1\n",
    "        \n",
    "    print(\"Number of targets in {} is {}.\".format(c, nsci ) )\n",
    "    print(\"Number of observable targets in {} is {}.\".format(c, nsci_reachable ) )\n",
    "    \n",
    "\n",
    "    \n",
    "ncal = 0\n",
    "ncal_reachable = 0\n",
    "for t in g.calTargetClasses['TClass_cal_P1_v0'].targets.itervalues():\n",
    "    if t.outarcs != []:\n",
    "        ncal += 1\n",
    "        ncal_reachable += 1\n",
    "print(\"Number of calibration stars: {}\".format(ncal) )\n",
    "print(\"Number of observable calibration stars: {}\".format( ncal_reachable )) \n",
    "            \n",
    "\n",
    "nsky = 0\n",
    "nsky_reachable = 0\n",
    "for t in g.calTargetClasses['TClass_sky_P1_v0'].targets.itervalues():\n",
    "    if t. outarcs != []:\n",
    "        nsky += 1\n",
    "        nsky_reachable += 1\n",
    "print(\"Number of sky positions: {}\".format(nsky) )\n",
    "print(\"Number of observable sky positions: {}\".format(nsky_reachable) )\n",
    "\n",
    "if RMAX == 10. or False:\n",
    "    plotSurveyPlan(g)"
   ]
  },
  {
   "cell_type": "code",
   "execution_count": 88,
   "metadata": {
    "collapsed": false,
    "deletable": true,
    "editable": true,
    "scrolled": false
   },
   "outputs": [
    {
     "name": "stdout",
     "output_type": "stream",
     "text": [
      "NVISITS = 10\n",
      "Searching optimal strategy to observe in \n",
      " 10 visits\n",
      " 12547 science targets\n",
      " 578 calib. targets\n",
      " 2394 cobras\n",
      "Will stop in any case after 600.0 s.\n",
      "num nodes: 170153\n",
      "num edges: 288787\n",
      "Building LP problem ...\n",
      "Building cost equation ...\n",
      " Time to completion: 17.60 s\n",
      "Time to build model: 1.7649e+01 s\n",
      "Solving LP problem ...\n",
      "Solve status is Optimal.\n",
      "Time to solve: 7.2193e+01 s\n",
      "Value of cost function = 5476000.0\n",
      "7071 out of 12547 science targets get observed.\n",
      "For 7071 out of these all required exposures got allocated.\n",
      "5476.0 targets get sent down the overflow arc.\n",
      "2359 out of 2394 cobras observed a target in one or more exposures.\n",
      "875 cobras observed a target in all exposures.\n"
     ]
    }
   ],
   "source": [
    "from pfs_netflow.lp import buildLPProblem, computeStats, solve\n",
    "from pulp import LpStatus, value\n",
    "\n",
    "\n",
    "def setflows(g,flows):\n",
    "    for a in g.arcs.itervalues():\n",
    "        k = '{}={}'.format(a.startnode.id,a.endnode.id)\n",
    "        if flows.has_key(k):\n",
    "            a.flow = value(flows[k])\n",
    "\n",
    "\n",
    "maxSeconds=600.\n",
    "\n",
    "    \n",
    "NCobras = len(g.cobras)\n",
    "NSciTargets = len(g.sciTargets)\n",
    "NCalTargets = len(g.calTargets)\n",
    "\n",
    "summary = \"\"\n",
    "summary += pp(\"NVISITS = {}\".format(NVISITS))\n",
    "summary += pp(\"Searching optimal strategy to observe in \")\n",
    "summary += pp(\" {} visits\".format(NVISITS))\n",
    "summary += pp(\" {} science targets\".format(NSciTargets))\n",
    "summary += pp(\" {} calib. targets\".format(NCalTargets/NVISITS))\n",
    "summary += pp(\" {} cobras\".format(NCobras))\n",
    "summary += pp(\"Will stop in any case after {} s.\".format(maxSeconds))\n",
    "\n",
    "\n",
    "summary += pp(\"num nodes: {}\".format(len(g.nodes)))\n",
    "summary += pp(\"num edges: {}\".format(len(g.arcs)))\n",
    "\n",
    "#visualizeSurveyPlan(g)\n",
    "\n",
    "summary += pp(\"Building LP problem ...\")\n",
    "start_time = time.time()\n",
    "prob, flows, cost = buildLPProblem(g)\n",
    "time_to_build = time.time() - start_time\n",
    "summary += pp(\"Time to build model: {:.4e} s\".format(time_to_build))\n",
    "\n",
    "random.seed(42)\n",
    "\n",
    "# Solve problem!\n",
    "summary += pp(\"Solving LP problem ...\")\n",
    "start_time = time.time()\n",
    "status = solve(prob, maxSeconds=maxSeconds)\n",
    "time_to_solve = time.time() - start_time\n",
    "summary += pp(\"Solve status is {}.\".format( LpStatus[status] ))\n",
    "summary += pp(\"Time to solve: {:.4e} s\".format(time_to_solve))\n",
    "\n",
    "stats = computeStats(g, flows, cost)\n",
    "\n",
    "summary += pp(\"{} = {}\".format('Value of cost function',value(stats.cost) ) )\n",
    "summary += pp(\"{} out of {} science targets get observed.\".format(int(stats.NSciObs),NSciTargets))\n",
    "summary += pp(\"For {} out of these all required exposures got allocated.\".format(stats.NSciComplete))\n",
    "summary += pp(\"{} targets get sent down the overflow arc.\".format(stats.Noverflow))\n",
    "summary += pp(\"{} out of {} cobras observed a target in one or more exposures.\".format(stats.Ncobras_used, NCobras ))\n",
    "summary += pp(\"{} cobras observed a target in all exposures.\".format(stats.Ncobras_fully_used))\n",
    "\n",
    "setflows(g,flows)"
   ]
  },
  {
   "cell_type": "code",
   "execution_count": 43,
   "metadata": {
    "collapsed": false,
    "deletable": true,
    "editable": true
   },
   "outputs": [
    {
     "name": "stdout",
     "output_type": "stream",
     "text": [
      "Visit 0\n",
      "Observed 1 science targets, 0 calibration targets and 0 sky positions.\n",
      " Observed 1 science targets in total.\n",
      "\n",
      "Visit 1\n",
      "Observed 1 science targets, 0 calibration targets and 0 sky positions.\n",
      " Observed 2 science targets in total.\n",
      "\n",
      "Visit 2\n",
      "Observed 1 science targets, 0 calibration targets and 0 sky positions.\n",
      " Observed 3 science targets in total.\n",
      "\n",
      "Visit 3\n",
      "Observed 1 science targets, 0 calibration targets and 0 sky positions.\n",
      " Observed 4 science targets in total.\n",
      "\n",
      "Visit 4\n",
      "Observed 1 science targets, 0 calibration targets and 0 sky positions.\n",
      " Observed 5 science targets in total.\n",
      "\n",
      "Visit 5\n",
      "Observed 1 science targets, 0 calibration targets and 0 sky positions.\n",
      " Observed 6 science targets in total.\n",
      "\n"
     ]
    }
   ],
   "source": [
    "nsci_observed_total = 0\n",
    "\n",
    "\n",
    "with open(\"nwf_results_nvisits{}.txt\".format(NVISITS), 'w') as f:\n",
    "    s  = \"# algorithm: {}\\n\".format(\"netflow\")\n",
    "    s += \"# total number of vistis: {}\\n\".format(NVISISTS)\n",
    "\n",
    "    s += \"# total number of observable science targets: {}\\n\".format(nsci_observable)\n",
    "    s += \"# total number of observable cal. targets: {}\\n\".format(ncal_observable)\n",
    "    s += \"# total number of observable sky positions: {}\\n\".format(nsky_observable)\n",
    "    s += \"{:3s} {:5s} {:5s} {:5s} {:5s}\\n\".format(\"V\", \"nsci\", \"ncal\", \"nsky\", \"nsci_total\")\n",
    "    f.write(s)\n",
    "\n",
    "    for visit in g.visits:\n",
    "        print(\"Visit {}\".format(visit))\n",
    "        nsci = 0\n",
    "        ncal = 0\n",
    "        nsky = 0\n",
    "        for a in g.arcs.itervalues():\n",
    "            n1,n2 = a.startnode,a.endnode\n",
    "\n",
    "            if a.flow > 0.:\n",
    "                #print n1,n2, a.flow, n2.visit\n",
    "                #print type(n2) == dm.CobraVisit , n2.visit == visit , type(n1) == dm.TargetVisit\n",
    "                #break\n",
    "                if type(n2) == dm.CobraVisit and n2.visit == visit and type(n1) == dm.TargetVisit:\n",
    "                        nsci += 1\n",
    "                        nsci_observed_total += 1\n",
    "                if type(n2) == dm.CobraVisit and n2.visit == visit and type(n1) == dm.CalTarget:\n",
    "                        try:\n",
    "                            if class_dict[ n1.id[2:-3] ][:3] == \"sky\":\n",
    "                                nsky += 1\n",
    "\n",
    "                            else:\n",
    "                                ncal += 1 \n",
    "                        except:\n",
    "                            pass\n",
    "\n",
    "        s = \"{:3d} {:5d} {:5d} {:5d} {:5d}\\n\".format(visit, nsci, ncal, nsky, nsci_observed_total)\n",
    "        f.write(s)\n",
    "        \n",
    "        print(\"Observed {} science targets, {} calibration targets and {} sky positions.\".format(nsci, ncal, nsky))\n",
    "        print(\" Observed {} science targets in total.\".format(nsci_observed_total))\n",
    "        print(\"\")\n"
   ]
  },
  {
   "cell_type": "code",
   "execution_count": null,
   "metadata": {
    "collapsed": false,
    "deletable": true,
    "editable": true
   },
   "outputs": [],
   "source": [
    "nsci = sum( [class_dict[t][:3] == \"sci\" for t in targets] )\n",
    "ncal = sum( [class_dict[t][:3] == \"cal\" for t in targets] )\n",
    "nsky = sum( [class_dict[t][:3] == \"sky\" for t in targets] )\n",
    "\n",
    "sum( [class_dict[t][:3] == \"cal\" for t in targets] )\n",
    "\n",
    "\n",
    "print(\"{} targets positions in total.\".format( nsci ))\n",
    "print(\"{} cal. targets in total.\".format( ncal ))\n",
    "print(\"{} sky positions in total.\".format( nsky ))\n"
   ]
  },
  {
   "cell_type": "code",
   "execution_count": null,
   "metadata": {
    "collapsed": true,
    "deletable": true,
    "editable": true
   },
   "outputs": [],
   "source": [
    "from astropy.io import ascii\n",
    "\n",
    "nwf_results_nvisits = {}\n",
    "#nwf_results_nvisits[12] = ascii.read(\"nwf_results_nvisits12.txt\")\n",
    "#nwf_results_nvisits[12] = ascii.read(\"nwf_results_nvisits12.txt\")\n",
    "nwf_results_nvisits[10] = ascii.read(\"nwf_results_nvisits10.txt\")\n",
    "nwf_results_nvisits[9] = ascii.read(\"nwf_results_nvisits9.txt\")\n",
    "nwf_results_nvisits[8] = ascii.read(\"nwf_results_nvisits8.txt\")\n",
    "nwf_results_nvisits[7] = ascii.read(\"nwf_results_nvisits7.txt\")\n",
    "nwf_results_nvisits[6] = ascii.read(\"nwf_results_nvisits6.txt\")\n",
    "nwf_results_nvisits[5] = ascii.read(\"nwf_results_nvisits5.txt\")\n",
    "nwf_results_nvisits[4] = ascii.read(\"nwf_results_nvisits4.txt\")\n",
    "nwf_results_nvisits[3] = ascii.read(\"nwf_results_nvisits3.txt\")\n",
    "nwf_results_nvisits[2] = ascii.read(\"nwf_results_nvisits2.txt\")\n",
    "\n",
    "ets_results = {}\n",
    "ets_results[\"draining_closest\"] = ascii.read(\"ets_results_draining_closest.txt\")\n",
    "ets_results[\"draining\"] = ascii.read(\"ets_results_draining.txt\")\n",
    "ets_results[\"naive\"] = ascii.read(\"ets_results_naive.txt\")\n",
    "ets_results[\"new\"] = ascii.read(\"ets_results_new.txt\")\n",
    "\n",
    "#ascii.read(\"ets_results_draining_closest.txt\",format"
   ]
  },
  {
   "cell_type": "code",
   "execution_count": null,
   "metadata": {
    "collapsed": false,
    "deletable": true,
    "editable": true
   },
   "outputs": [],
   "source": [
    "f = plt.figure(figsize=[8,8])\n",
    "\n",
    "\n",
    "for alg in ets_results:\n",
    "    plt.plot(ets_results[alg]['V']+1, ets_results[alg]['nsci_total'],'o-', label=alg)\n",
    "l = plt.legend()\n",
    "l.draw_frame(False)\n",
    "\n",
    "#for nvisits in nwf_results_nvisits:\n",
    "#    plt.plot(nwf_results_nvisits[nvisits]['V']+1, nwf_results_nvisits[nvisits]['nsci_total'],'ks-', label=alg, color='grey', ms=8)\n",
    "\n",
    "#nvisits = 10\n",
    "#plt.plot(nwf_results_nvisits[nvisits]['V']+1, nwf_results_nvisits[nvisits]['nsci_total'],'ks-', label=alg, color='grey', ms=8)\n",
    "\n",
    "plt.axhline(nsci_observable,ls=\":\",c='k')\n",
    "plt.text(1,nsci_observable+50,\"max # science targets observable\".format(nsci_observable),ha='left',va='bottom')\n",
    "plt.ylabel(\"# science targets observed\")\n",
    "plt.xlabel(\"visit\")\n",
    "plt.ylim([500,8500])"
   ]
  },
  {
   "cell_type": "markdown",
   "metadata": {
    "deletable": true,
    "editable": true
   },
   "source": [
    "# New & auxiliary stuff"
   ]
  },
  {
   "cell_type": "code",
   "execution_count": null,
   "metadata": {
    "collapsed": false,
    "deletable": true,
    "editable": true,
    "scrolled": true
   },
   "outputs": [],
   "source": [
    "RSEP = 5.\n",
    "\n",
    "if RSEP > 0.:\n",
    "    print(\"Finding collision pairs ...\")\n",
    "    tt = np.array( [t for t in g.targets.itervalues()] )\n",
    "    tt_xy = [ (g.targets[t].x,g.targets[t].y) for t in g.targets]\n",
    "\n",
    "    N = len(tt)\n",
    "\n",
    "    from scipy.spatial import distance\n",
    "    # calculat collisions from all pairwise separations\n",
    "    colls = distance.cdist(tt_xy, tt_xy, 'euclidean') < RSEP\n",
    "    # set lower diagonal to False, if we know that A collides with B already\n",
    "    # then we don't need to take into account that B collides with A\n",
    "    colls[ np.tril_indices(N) ] = False \n",
    "\n",
    "    coll_pairs = []\n",
    "    for i,t1 in enumerate(tt):\n",
    "        for t2 in tt[ colls[i] ].tolist():\n",
    "            coll_pairs.append([t1,t2])\n",
    "            #print t1.id,t2.id\n",
    "\n",
    "    print( \"Found {} collision pairs.\".format(len( coll_pairs )) )\n",
    "\n",
    "    #for tid,t in tt:\n",
    "    #    prob += pulp.lpSum( [ flows['{}={}'.format(a.startnode.id,a.endnode.id)] for a in t.outarcs]) <= 1\n",
    "    \n",
    "    "
   ]
  },
  {
   "cell_type": "code",
   "execution_count": null,
   "metadata": {
    "collapsed": false,
    "deletable": true,
    "editable": true
   },
   "outputs": [],
   "source": [
    "i = 0\n",
    "\n",
    "t1,t2 = coll_pairs[i]\n",
    "\n",
    "print type(t1) == SciTarget\n",
    "print type(t1) == CalTarget\n",
    "\n",
    "t2.outarcs"
   ]
  },
  {
   "cell_type": "code",
   "execution_count": null,
   "metadata": {
    "collapsed": false,
    "deletable": true,
    "editable": true
   },
   "outputs": [],
   "source": [
    "# Sanity check, make sure all flows are integer:\n",
    "allflows = []\n",
    "for a in g.arcs.itervalues():\n",
    "    k = '{}={}'.format(a.startnode.id,a.endnode.id)\n",
    "    if flows.has_key(k):\n",
    "        allflows.append(value(flows[k]))\n",
    "\n",
    "print(\"All flows are: integer {}\".format(all( unique(allflows)%1 == 0 )))\n"
   ]
  },
  {
   "cell_type": "code",
   "execution_count": null,
   "metadata": {
    "collapsed": false,
    "deletable": true,
    "editable": true,
    "scrolled": false
   },
   "outputs": [],
   "source": [
    "if True:\n",
    "    # plot solution\n",
    "    for a in g.arcs.itervalues():\n",
    "        k = '{}={}'.format(a.startnode.id,a.endnode.id)\n",
    "        if flows.has_key(k):\n",
    "            a.flow = value(flows[k])\n",
    "    plotSurveyPlan(g)\n",
    "    #return g, stats, time_to_build, time_to_solve, status, prob, flows, cost, summary"
   ]
  },
  {
   "cell_type": "code",
   "execution_count": null,
   "metadata": {
    "collapsed": true,
    "deletable": true,
    "editable": true
   },
   "outputs": [],
   "source": [
    "if False:\n",
    "    def rescue_code(function):\n",
    "        import inspect\n",
    "        get_ipython().set_next_input(\"\".join(inspect.getsourcelines(function)[0]))\n",
    "\n",
    "    rescue_code(buildSurveyPlan)"
   ]
  },
  {
   "cell_type": "code",
   "execution_count": null,
   "metadata": {
    "collapsed": true,
    "deletable": true,
    "editable": true
   },
   "outputs": [],
   "source": [
    "!open ."
   ]
  },
  {
   "cell_type": "code",
   "execution_count": null,
   "metadata": {
    "collapsed": true,
    "deletable": true,
    "editable": true
   },
   "outputs": [],
   "source": []
  }
 ],
 "metadata": {
  "celltoolbar": "Slideshow",
  "kernelspec": {
   "display_name": "Python 2",
   "language": "python",
   "name": "python2"
  },
  "language_info": {
   "codemirror_mode": {
    "name": "ipython",
    "version": 2
   },
   "file_extension": ".py",
   "mimetype": "text/x-python",
   "name": "python",
   "nbconvert_exporter": "python",
   "pygments_lexer": "ipython2",
   "version": "2.7.13"
  }
 },
 "nbformat": 4,
 "nbformat_minor": 2
}
