{
 "cells": [
  {
   "cell_type": "code",
   "execution_count": 1,
   "metadata": {},
   "outputs": [
    {
     "data": {
      "text/html": [
       "<style>.container { width:100% !important; }</style>"
      ],
      "text/plain": [
       "<IPython.core.display.HTML object>"
      ]
     },
     "metadata": {},
     "output_type": "display_data"
    }
   ],
   "source": [
    "# go wide screen\n",
    "from IPython.core.display import display, HTML\n",
    "display(HTML(\"<style>.container { width:100% !important; }</style>\"))"
   ]
  },
  {
   "cell_type": "markdown",
   "metadata": {},
   "source": [
    "# Some necessary preparation"
   ]
  },
  {
   "cell_type": "code",
   "execution_count": 6,
   "metadata": {},
   "outputs": [
    {
     "name": "stdout",
     "output_type": "stream",
     "text": [
      "The autoreload extension is already loaded. To reload it, use:\n",
      "  %reload_ext autoreload\n"
     ]
    }
   ],
   "source": [
    "# Next two lines force automatic reload of loaded module. Convenient if\n",
    "# one is still fiddeling with them.\n",
    "%load_ext autoreload\n",
    "%autoreload 2\n",
    "\n",
    "# Add current working directory to pythonpath\n",
    "import sys\n",
    "from collections import OrderedDict\n",
    "import time as time\n",
    "import numpy as np\n",
    "from numpy import random\n",
    "\n",
    "from astropy.io import ascii\n",
    "\n",
    "from matplotlib import pyplot as plt\n",
    "%matplotlib inline\n",
    "\n",
    "import pyETS\n",
    "\n",
    "# Datamodel for the flow network\n",
    "import pfs_netflow.datamodel as dm\n",
    "from pfs_netflow.utils import pp \n",
    "from pfs_netflow import utils\n",
    "from pfs_netflow import lp\n",
    "from pfs_netflow import survey_plan\n",
    "from pfs_netflow.survey_plan import computeStats\n",
    "\n",
    "\n",
    "# Trajectory collision detection\n",
    "sys.path.append(\"/Users/mxhf/work/MPE/pfs/src/ics_cobraOps/python/ics\")\n",
    "import cobraOps.plotUtils as plotUtils\n",
    "import cobraOps.targetUtils as targetUtils\n",
    "from cobraOps.Bench import Bench\n",
    "from pfs_netflow.ics_interface import getBench, getCollSim"
   ]
  },
  {
   "cell_type": "markdown",
   "metadata": {},
   "source": [
    "# Basic Configuration\n",
    "\n",
    "From the following three examples chose one"
   ]
  },
  {
   "cell_type": "code",
   "execution_count": 9,
   "metadata": {
    "collapsed": true
   },
   "outputs": [],
   "source": [
    "# Which example to run\n",
    "EXAMPLE = \"CMP_ETS_FIBER_ASSIGNER\"\n",
    "#EXAMPLE = \"COS\"\n",
    "#EXAMPLE = \"GE\"\n",
    "#EXAMPLE = \"GA\""
   ]
  },
  {
   "cell_type": "code",
   "execution_count": 10,
   "metadata": {
    "collapsed": true
   },
   "outputs": [],
   "source": [
    "################################\n",
    "# Some flags to configure behaviour\n",
    "################################\n",
    "ENABLE_COLLISION_AVOIDANCE = False # enable endpoint collision avoidance, slow if there is many (>> 10k) targets\n",
    "ENABLE_ELBOW_COLLISION_AVOIDANCE = False\n",
    "PLOT_TARGET_DISTRIBUTION   = False\n",
    "PLOT_SURVEY_PLAN           = False # plot network of survey plan. Only use when restricting to very small subegions of the focal plane!\n",
    "PLOT_FOCAL_PLANE           = False # plot focal plane and indicate which cobras observe what targets. \n",
    "                                   # Only use when restricting to very small subegions of the focal plane!\n",
    "\n",
    "RANDOM_PRIORITIES          = False # Randomly assign priority classes to sciencetargets \n",
    "MODEL_TUNING               = False # Run model tuning\n",
    "\n",
    "PLOT_FOCAL_PLANE_FOR_ALL_POINTINGS = False # Plot where the targets fall with respect to the cobras (and the black dots) for all pointings\n",
    "RANDOMIZENREQ = False # RANDOMISE NUMBER OF REQUIRED VISISTS\n",
    "\n",
    "SOLVE_TIME_LIMIT = 600000.0 # time limit in seconds\n",
    "NUMER_OF_THREDS = 7          # number of thread to use\n",
    "MIP_GAP = 3e-3        # solution\n",
    "\n",
    "# You can limit the problem here by constraining it to a subregion of the focal plane\n",
    "# good very minimal example\n",
    "#RMAX   = 10.\n",
    "#CENTER = [-0.,0.]\n",
    "#fieldsize   = \"tinytiny\"\n",
    "\n",
    "# check for changing visibility\n",
    "#RMAX   = 10.\n",
    "#CENTER = [7.,-12.]\n",
    "#fieldsize   = \"tiny\"\n",
    "\n",
    "# intermediate example\n",
    "#RMAX   = 150.\n",
    "#CENTER = [0.,0.]\n",
    "#fieldsize   = \"intermediate\"\n",
    "\n",
    "# good small example!\n",
    "#RMAX   = 25.\n",
    "#CENTER = [-0.,0.]\n",
    "#fieldsize   = \"small\"\n",
    "\n",
    "# do them all!\n",
    "RMAX   = 310.\n",
    "CENTER = [-0.,0.]\n",
    "fieldsize   =\"all\""
   ]
  },
  {
   "cell_type": "markdown",
   "metadata": {},
   "source": [
    "## COMPARE TO ETS FIBER ASSIGNER"
   ]
  },
  {
   "cell_type": "code",
   "execution_count": 29,
   "metadata": {
    "collapsed": true
   },
   "outputs": [],
   "source": [
    "if EXAMPLE == \"CMP_ETS_FIBER_ASSIGNER\":\n",
    "    name = \"CMP_ETS_FIBER_ASSIGNER\"\n",
    "\n",
    "    BLOCKLENGTH = 900. # block exposure time in s\n",
    "\n",
    "    ################################\n",
    "    # Define target lists.\n",
    "    ################################\n",
    "    catalog_path = \"../ets_fiber_assigner.py3/data/\"\n",
    "    fscience_targets = catalog_path+\"pfs_preliminary_target_cosmology.dat\"\n",
    "    # So far, we only have test data for targets.\n",
    "    # Once we have files for calibration stars and sky locations, we can add them\n",
    "    # here.\n",
    "    fcal_stars       = catalog_path+\"pfs_preliminary_target_cosmology_fcstars.dat\"\n",
    "    fsky_pos         = catalog_path+\"pfs_preliminary_target_cosmology_sky.dat\"\n",
    "\n",
    "\n",
    "    # fiducial field coortinate\n",
    "    RA0, DEC0 = [np.nan, np.nan] # if set to nan, central RA and DEC of targets will be used\n",
    "\n",
    "\n",
    "    # limit targets to a smaller field of view\n",
    "    DRMAX_SQ = (2700./3600.)**2. # actually the whole focal plane\n",
    "    #DRMAX_SQ = (120./3600.)**2.\n",
    "\n",
    "    # In cosmology we don't dither, there is just one pointing, one fiber configuration,\n",
    "    # and one exposure per field.\n",
    "    #\n",
    "    # Define dither pattern\n",
    "    DITHER_PATTERN = {\"A\" : ( 0.,0.)} # No Dithers, just one fiducial position\n",
    "\n",
    "    ### Only for testing performance testing against ETS\n",
    "    #DITHER_PATTERN = OrderedDict()\n",
    "    ## 6 - point round dither pattern ...\n",
    "    #a = np.deg2rad( np.arange(0., 360., 60.) )\n",
    "    #r = 10. \n",
    "    #xx = np.sin(a) * r/3600.\n",
    "    #yy = np.cos(a) * r/3600.\n",
    "    #for i,(x,y) in enumerate(zip(xx,yy)):\n",
    "    #    DITHER_PATTERN['{:02d}'.format(i) ] = ( x,y)\n",
    "    ### \n",
    "\n",
    "    # more programmatic part of the configuration, load target lists\n",
    "    # and compute dither positions (on sky)\n",
    "\n",
    "    # Load target lists.\n",
    "    science_targets = ascii.read(fscience_targets)\n",
    "    cal_stars = ascii.read(fcal_stars)\n",
    "    sky_pos = ascii.read(fsky_pos)\n",
    "\n",
    "    # find field center and extent\n",
    "    cRA  = np.median( science_targets['RA'] )  \n",
    "    cDEC =  np.median( science_targets['DEC'] ) \n",
    "    RAmin,RAmax   = np.min( science_targets['RA'] ), np.max( science_targets['RA'] )\n",
    "    DECmin,DECmax = np.min( science_targets['DEC'] ), np.max( science_targets['DEC'] )\n",
    "\n",
    "    # set (or not) fiducial field center\n",
    "    if [RA0, DEC0] != [np.nan, np.nan]:\n",
    "        cRA, cDEC = RA0, DEC0\n",
    "\n",
    "    pointings = OrderedDict()\n",
    "    # These are the exact same pointings that Martin's ETS uses\n",
    "    pointings[0] = (33.98856329,-4.52042780)\n",
    "    #pointings[1] = (33.98850269,-4.49143588)\n",
    "    #pointings[2] = (33.98161333,-4.50261379)\n",
    "    #pointings[3] = (33.99779963,-4.50175532)\n",
    "    #pointings[4] = (33.98769368,-4.48329165)\n",
    "    #pointings[5] = (34.00050658,-4.49288903)\n",
    "\n",
    "    # EXPERIMENT: HIGHEST COST/LOWEST COST SHOULD BE < 1e12.\n",
    "    # Adjust cost and dscourage wide moves.\n",
    "\n",
    "    ################################\n",
    "    # Define the cost function\n",
    "    ################################\n",
    "    from numpy import inf\n",
    "\n",
    "    cost_dict = {}\n",
    "    # For each target class we define the cost \n",
    "    # of non-observation and non-completion as \n",
    "    # a two-tuple. The cost of non-completion \n",
    "    # is typically larger as partial completion \n",
    "    # of objects should be avoided.\n",
    "    cost_dict['sci_P01'] = (100,1e9)\n",
    "    cost_dict['sci_P02'] = ( 90,1e9)\n",
    "    cost_dict['sci_P03'] = ( 80,1e9)\n",
    "    cost_dict['sci_P04'] = ( 70,1e9)\n",
    "    cost_dict['sci_P05'] = ( 60,1e9)\n",
    "    cost_dict['sci_P06'] = ( 50,1e9)\n",
    "    cost_dict['sci_P07'] = ( 40,1e9)\n",
    "\n",
    "    # For the calibration objects we only define the cost\n",
    "    # of non-observation as calibration targets only *need* to be pointinged once.\n",
    "    # Note: The can of course be pointinged many times. But\n",
    "    # for the calibration objects the real constraint is to have \n",
    "    # at least N out of M observed in each exposure.\n",
    "    # There is no requirement to repointing a specific calibration target.\n",
    "    cost_dict['cal_P01'] = 1e6\n",
    "    cost_dict['sky_P01'] = 1e6\n",
    "\n",
    "    # Here we add higher cost to later pointings. Ther should be one entry per pointing.\n",
    "    cost_dict['pointings'] = OrderedDict()\n",
    "    for i, pid in enumerate(pointings):\n",
    "          cost_dict['pointings'][pid] = i*10.\n",
    "\n",
    "    # Here we discourage large cobra moves. The example here is a simple\n",
    "    # linear function cost = A * move_distance \n",
    "    # where the parameter A controls how quickly the cost increases as funciton of distance.\n",
    "    #A = 250.\n",
    "    #A = 10.\n",
    "    A = 0.1\n",
    "    cost_dict['cobra_move'] = lambda d : d*A  \n",
    "\n",
    "\n",
    "    # Here we define how at least many objects out of each class we want observed.\n",
    "    supply_dict = {}\n",
    "    # By setting science object to inf, we say we want them all.\n",
    "    supply_dict['sci_P01'] = inf\n",
    "\n",
    "    # need one calibration star per exposure\n",
    "    supply_dict['cal_P01'] = 40 # force exactly 11\n",
    "    # need one sky positions per exposure\n",
    "    supply_dict['sky_P01'] = 240 # force exactly 328"
   ]
  },
  {
   "cell_type": "markdown",
   "metadata": {},
   "source": [
    "## Galactic Areaology Example (UMi)"
   ]
  },
  {
   "cell_type": "code",
   "execution_count": 41,
   "metadata": {
    "collapsed": true
   },
   "outputs": [],
   "source": [
    "if EXAMPLE == \"GA\":\n",
    "    name = \"GA\"\n",
    "\n",
    "    BLOCKLENGTH = 900. # block exposure time in s\n",
    "    ################################\n",
    "    # Define and load target lists.\n",
    "    ################################\n",
    "    fscience_targets = \"pfs_target_list/pfs_preliminary_target_archaeology_umi.dat\"\n",
    "    fcal_stars       = \"pfs_target_list/pfs_preliminary_target_archaeology_umi_fcstars_mock.dat\"\n",
    "    fsky_pos         = \"pfs_target_list/pfs_preliminary_target_archaeology_umi_sky_mock.dat\"\n",
    "    fsky_pos         = \"pfs_target_list/pfs_preliminary_target_archaeology_umi_sky_mock_lowdensity.dat\"  # lower density of sky objects\n",
    "\n",
    "    # Load target lists.\n",
    "    science_targets = ascii.read(fscience_targets)\n",
    "    cal_stars = ascii.read(fcal_stars)\n",
    "    sky_pos = ascii.read(fsky_pos)\n",
    "    cRA  = np.median( science_targets['RA'] )  \n",
    "    cDEC =  np.median( science_targets['DEC'] ) \n",
    "    RAmin,RAmax   = np.min( science_targets['RA'] ), np.max( science_targets['RA'] )\n",
    "    DECmin,DECmax = np.min( science_targets['DEC'] ), np.max( science_targets['DEC'] )\n",
    "\n",
    "\n",
    "    # fiducial field coortinate\n",
    "    RA0, DEC0 = [np.nan, np.nan] # if set to nan, central RA and DEC of targets will be used\n",
    "\n",
    "    # limit targets to a smaller field of view\n",
    "    #DRMAX_SQ = (2700./3600.)**2. # actually the whole focal plane\n",
    "    DRMAX_SQ = np.inf\n",
    "    #DRMAX_SQ = (250./3600.)**2. \n",
    "\n",
    "\n",
    "    # In the case of galaxy evolution we have multiple\n",
    "    # fields per target.\n",
    "    # They should be optimize simultanously.\n",
    "    # In each feild we will still dither around the fiducial field\n",
    "    # center coordinate.\n",
    "\n",
    "    ################################\n",
    "    # Define dither pattern\n",
    "    ################################\n",
    "    DITHER_PATTERN = OrderedDict()\n",
    "    # 12 - point round dither pattern ...\n",
    "    a = np.deg2rad( np.arange(0., 360., 30) )\n",
    "    r = 100. \n",
    "    xx = np.sin(a) * r/3600.\n",
    "    yy = np.cos(a) * r/3600.\n",
    "    for i,(x,y) in enumerate(zip(xx,yy)):\n",
    "        DITHER_PATTERN['{:02d}'.format(i) ] = ( x,y)\n",
    "\n",
    "    fields = OrderedDict()\n",
    "    fields['A'] = (228.200,   +67.500)\n",
    "    fields['B']  = (226.300,   +67.500)\n",
    "    fields['C'] = (226.000,   +66.900)\n",
    "    fields['D'] = (228.100,   +66.955)\n",
    "\n",
    "    # more programmatic part of the configuration, load target lists\n",
    "    # and comput dither positions (on sky)\n",
    "\n",
    "    pointings = OrderedDict()\n",
    "    for fid in fields:\n",
    "        cRA,cDEC = fields[fid]\n",
    "        for did, (offset_ra, offset_dec) in DITHER_PATTERN.items():\n",
    "            pointing_RA, pointing_DEC = cRA + offset_ra/np.cos(np.deg2rad(cDEC)), cDEC + offset_dec\n",
    "            pointings[ \"P{}D{}\".format(fid,did) ] = (pointing_RA, pointing_DEC) \n",
    "\n",
    "    ################################\n",
    "    # Define the cost function\n",
    "    ################################\n",
    "    from numpy import inf\n",
    "\n",
    "    cost_dict = {}\n",
    "    # For each target class we define the \n",
    "    # cost of non-observation and non-completion \n",
    "    # as a two-tuple. The cost of non-completion \n",
    "    # is typically larger as partial completion \n",
    "    # of objects should be avoided.\n",
    "    cost_dict['sci_P01'] = (1000000.,1e15)\n",
    "    cost_dict['sci_P02'] = (1000000.,1e15)\n",
    "    cost_dict['sci_P03'] = (1000000.,1e15)\n",
    "    cost_dict['sci_P04'] = (1000000.,1e15)\n",
    "    cost_dict['sci_P05'] = (1000000.,1e15)\n",
    "    cost_dict['sci_P06'] = (1000.,1e15)\n",
    "    cost_dict['sci_P07'] = (1000.,1e15)\n",
    "    cost_dict['sci_P08'] = (1000.,1e15)\n",
    "    cost_dict['sci_P09'] = (1000.,1e15)\n",
    "    cost_dict['sci_P10'] = (1000.,1e15)\n",
    "\n",
    "\n",
    "    # For the calibration objects we only define the cost\n",
    "    # of non-observation as calibration targets only *need* to be pointinged once.\n",
    "    # Note: The can of course be pointinged many times. But\n",
    "    # for the calibration objects the real constraint is to have \n",
    "    # at least N out of M observed in each exposure.\n",
    "    # There is no requirement to repointing a specific calibration target.\n",
    "    cost_dict['cal_P01'] = 1e12\n",
    "    cost_dict['sky_P01'] = 1e12\n",
    "\n",
    "    # Here we add higher cost to later pointings. Ther should be one entry per pointing.\n",
    "    cost_dict['pointings'] = OrderedDict()\n",
    "    for i, pid in enumerate(pointings):\n",
    "          cost_dict['pointings'][pid] = i*10.\n",
    "\n",
    "    # Here we discourage large cobra moves. The example here is a simple\n",
    "    # linear function cost = A * move_distance \n",
    "    # where the parameter A controls how quickly the cost increases as funciton of distance.\n",
    "    #A = 250.\n",
    "    A = 0.\n",
    "    cost_dict['cobra_move'] = lambda d : d*A  \n",
    "\n",
    "\n",
    "    # Here we define how at least many objects out of each class we want observed.\n",
    "    supply_dict = {}\n",
    "    # By setting science object to inf, we say we want them all.\n",
    "    supply_dict['sci_P01'] = inf\n",
    "    supply_dict['sci_P02'] = inf\n",
    "    supply_dict['sci_P03'] = inf\n",
    "    supply_dict['sci_P04'] = inf\n",
    "    supply_dict['sci_P05'] = inf\n",
    "    supply_dict['sci_P06'] = inf\n",
    "    supply_dict['sci_P07'] = inf\n",
    "    supply_dict['sci_P08'] = inf\n",
    "    supply_dict['sci_P09'] = inf\n",
    "    supply_dict['sci_P10'] = inf\n",
    "\n",
    "    # needed calibration star per exposure\n",
    "    supply_dict['cal_P01'] = 40 # inf = try to get as many as  possible\n",
    "    # needed sky positions per exposure\n",
    "    supply_dict['sky_P01'] = 240 # inf = try to get as many as  possible"
   ]
  },
  {
   "cell_type": "markdown",
   "metadata": {},
   "source": [
    "## Galaxy Evolution Example"
   ]
  },
  {
   "cell_type": "code",
   "execution_count": 42,
   "metadata": {
    "collapsed": true
   },
   "outputs": [],
   "source": [
    "if EXAMPLE == \"GE\":\n",
    "    name = \"GE\"\n",
    "    \n",
    "    ################################\n",
    "    # Define target lists.\n",
    "    ################################\n",
    "    fscience_targets = \"pfs_target_list/pfs_preliminary_target_galaxy.dat\"\n",
    "    fcal_stars       = \"pfs_target_list/pfs_preliminary_target_galaxy_fcstars_mock.dat\"\n",
    "    fsky_pos         = \"pfs_target_list/pfs_preliminary_target_galaxy_sky_mock.dat\"\n",
    "    #fsky_pos         = \"pfs_target_list/pfs_preliminary_target_archaeology_umi_fcstars_mock_lowdensity.dat\"\n",
    "\n",
    "\n",
    "    # fiducial field coortinate\n",
    "    RA0, DEC0 = [np.nan, np.nan] # if set to nan, central RA and DEC of targets will be used\n",
    "\n",
    "\n",
    "    # limit targets to a smaller field of view\n",
    "    #DRMAX_SQ = (2700./3600.)**2. # actually the whole focal plane\n",
    "    DRMAX_SQ = np.inf\n",
    "\n",
    "\n",
    "    #Define dither pattern\n",
    "    DITHER_PATTERN = OrderedDict()\n",
    "    # manually ...\n",
    "\n",
    "    BIN = 2\n",
    "    # dither in a hexagon ...\n",
    "    a = np.deg2rad( np.linspace(0., 360., 64/BIN) )\n",
    "    r = 100. \n",
    "    xx = np.sin(a) * r/3600.\n",
    "    yy = np.cos(a) * r/3600.\n",
    "    for i,(x,y) in enumerate(zip(xx,yy)):\n",
    "        DITHER_PATTERN['D{:02d}'.format(i) ] = ( x,y)\n",
    "\n",
    "\n",
    "    BLOCKLENGTH = 900.*BIN # block exposure time in s\n",
    "\n",
    "\n",
    "    # more programmatic part of the configuration, load target lists\n",
    "    # and comput dither positions (on sky)\n",
    "\n",
    "    # Load target lists.\n",
    "    science_targets = ascii.read(fscience_targets)\n",
    "    cal_stars = ascii.read(fcal_stars)\n",
    "    sky_pos = ascii.read(fsky_pos)\n",
    "\n",
    "    # find field center and extent\n",
    "    cRA  = np.median( science_targets['RA'] )  \n",
    "    cDEC =  np.median( science_targets['DEC'] ) \n",
    "    RAmin,RAmax   = np.min( science_targets['RA'] ), np.max( science_targets['RA'] )\n",
    "    DECmin,DECmax = np.min( science_targets['DEC'] ), np.max( science_targets['DEC'] )\n",
    "\n",
    "    # set (or not) fiducial field center\n",
    "    if [RA0, DEC0] != [np.nan, np.nan]:\n",
    "        cRA, cDEC = RA0, DEC0\n",
    "\n",
    "    pointings = OrderedDict()\n",
    "    for did, (offset_ra, offset_dec) in DITHER_PATTERN.items():\n",
    "        pointing_RA, pointing_DEC = cRA + offset_ra, cDEC + offset_dec\n",
    "        pointings[did] = (pointing_RA, pointing_DEC) \n",
    "\n",
    "    ################################\n",
    "    # Define the cost function\n",
    "    ################################\n",
    "    from numpy import inf\n",
    "\n",
    "    cost_dict = {}\n",
    "    # For each target class we define the cost \n",
    "    # of non-observation and non-completion as \n",
    "    # a two-tuple. The cost of non-completion \n",
    "    # is typically larger as partial completion \n",
    "    # of objects should be avoided.\n",
    "    cost_dict['sci_P01'] = (1e10,5e10)\n",
    "    cost_dict['sci_P02'] = (1e9,5e9)\n",
    "    cost_dict['sci_P03'] = (1e8,5e8)\n",
    "    cost_dict['sci_P04'] = (1e7,5e7)\n",
    "    cost_dict['sci_P05'] = (1e6,5e6)\n",
    "    cost_dict['sci_P06'] = (1e5,5e5)\n",
    "    cost_dict['sci_P07'] = (1e4,5e4)\n",
    "    cost_dict['sci_P08'] = (1e3,5e3)\n",
    "    cost_dict['sci_P09'] = (1e2,5e2)\n",
    "    cost_dict['sci_P10'] = (1e1,5e1)\n",
    "\n",
    "\n",
    "    # For the calibration objects we only define the cost\n",
    "    # of non-observation as calibration targets only *need* to be pointinged once.\n",
    "    # Note: The can of course be pointinged many times. But\n",
    "    # for the calibration objects the real constraint is to have \n",
    "    # at least N out of M observed in each exposure.\n",
    "    # There is no requirement to repointing a specific calibration target.\n",
    "    cost_dict['cal_P01'] = 1e11\n",
    "    cost_dict['sky_P01'] = 1e11\n",
    "\n",
    "    # Here we add higher cost to later pointings. Ther should be one entry per pointing.\n",
    "    cost_dict['pointings'] = OrderedDict()\n",
    "    for i, pid in enumerate(pointings):\n",
    "          cost_dict['pointings'][pid] = i*1.\n",
    "\n",
    "    # Here we discourage large cobra moves. The example here is a simple\n",
    "    # linear function cost = A * move_distance \n",
    "    # where the parameter A controls how quickly the cost increases as funciton of distance.\n",
    "    #A = 250.\n",
    "    A = 0.1\n",
    "    cost_dict['cobra_move'] = lambda d : d*A  \n",
    "\n",
    "\n",
    "    # Here we define how at least many objects out of each class we want observed.\n",
    "    supply_dict = {}\n",
    "    # By setting science object to inf, we say we want them all.\n",
    "    supply_dict['sci_P01'] = inf\n",
    "    supply_dict['sci_P02'] = inf\n",
    "    supply_dict['sci_P03'] = inf\n",
    "    supply_dict['sci_P04'] = inf\n",
    "    supply_dict['sci_P05'] = inf\n",
    "    supply_dict['sci_P06'] = inf\n",
    "    supply_dict['sci_P07'] = inf\n",
    "    supply_dict['sci_P08'] = inf\n",
    "    supply_dict['sci_P09'] = inf\n",
    "    supply_dict['sci_P10'] = inf\n",
    "\n",
    "    # need one calibration star per exposure\n",
    "    supply_dict['cal_P01'] = 40 # force exactly 40\n",
    "    # need one sky positions per exposure\n",
    "    supply_dict['sky_P01'] = 240 # force exactly 240\n"
   ]
  },
  {
   "cell_type": "markdown",
   "metadata": {},
   "source": [
    "## Cosmology Example"
   ]
  },
  {
   "cell_type": "code",
   "execution_count": 43,
   "metadata": {
    "collapsed": true
   },
   "outputs": [],
   "source": [
    "\n",
    "if EXAMPLE == \"COS\":\n",
    "    name = \"COS\"\n",
    "\n",
    "    BLOCKLENGTH = 900. # block exposure time in s\n",
    "\n",
    "    ################################\n",
    "    # Define target lists.\n",
    "    ################################\n",
    "    fscience_targets = \"pfs_target_list/pfs_preliminary_target_cosmology.dat\"\n",
    "    fcal_stars       = \"pfs_target_list/pfs_preliminary_target_cosmology_fcstars.dat\"\n",
    "    fsky_pos         = \"pfs_target_list/pfs_preliminary_target_cosmology_sky.dat\"\n",
    "\n",
    "\n",
    "    # fiducial field coortinate\n",
    "    RA0, DEC0 = [np.nan, np.nan] # if set to nan, central RA and DEC of targets will be used\n",
    "\n",
    "\n",
    "    # limit targets to a smaller field of view\n",
    "    DRMAX_SQ = (2700./3600.)**2. # actually the whole focal plane\n",
    "    #DRMAX_SQ = (120./3600.)**2.\n",
    "\n",
    "    # In cosmology we don't dither, there is just one pointing, one fiber configuration,\n",
    "    # and one exposure per field.\n",
    "    #\n",
    "    # Define dither pattern\n",
    "    DITHER_PATTERN = {\"A\" : ( 0.,0.)} # No Dithers, just one fiducial position\n",
    "\n",
    "    ### Only for testing performance testing against ETS\n",
    "    #DITHER_PATTERN = OrderedDict()\n",
    "    ## 6 - point round dither pattern ...\n",
    "    #a = np.deg2rad( np.arange(0., 360., 60.) )\n",
    "    #r = 10. \n",
    "    #xx = np.sin(a) * r/3600.\n",
    "    #yy = np.cos(a) * r/3600.\n",
    "    #for i,(x,y) in enumerate(zip(xx,yy)):\n",
    "    #    DITHER_PATTERN['{:02d}'.format(i) ] = ( x,y)\n",
    "    ### \n",
    "\n",
    "    # more programmatic part of the configuration, load target lists\n",
    "    # and compute dither positions (on sky)\n",
    "\n",
    "    # Load target lists.\n",
    "    science_targets = ascii.read(fscience_targets)\n",
    "    cal_stars = ascii.read(fcal_stars)\n",
    "    sky_pos = ascii.read(fsky_pos)\n",
    "\n",
    "    # find field center and extent\n",
    "    cRA  = np.median( science_targets['RA'] )  \n",
    "    cDEC =  np.median( science_targets['DEC'] ) \n",
    "    RAmin,RAmax   = np.min( science_targets['RA'] ), np.max( science_targets['RA'] )\n",
    "    DECmin,DECmax = np.min( science_targets['DEC'] ), np.max( science_targets['DEC'] )\n",
    "\n",
    "    # set (or not) fiducial field center\n",
    "    if [RA0, DEC0] != [np.nan, np.nan]:\n",
    "        cRA, cDEC = RA0, DEC0\n",
    "\n",
    "    pointings = OrderedDict()\n",
    "    for did, (offset_ra, offset_dec) in DITHER_PATTERN.items():\n",
    "        pointing_RA, pointing_DEC = cRA + offset_ra, cDEC + offset_dec\n",
    "        pointings[did] = (pointing_RA, pointing_DEC) \n",
    "\n",
    "    # EXPERIMENT: HIGHEST COST/LOWEST COST SHOULD BE < 1e12.\n",
    "    # Adjust cost and dscourage wide moves.\n",
    "\n",
    "    ################################\n",
    "    # Define the cost function\n",
    "    ################################\n",
    "    from numpy import inf\n",
    "\n",
    "    cost_dict = {}\n",
    "    # For each target class we define the cost \n",
    "    # of non-observation and non-completion as \n",
    "    # a two-tuple. The cost of non-completion \n",
    "    # is typically larger as partial completion \n",
    "    # of objects should be avoided.\n",
    "    cost_dict['sci_P01'] = (1e2,1e4)\n",
    "\n",
    "\n",
    "    # For the calibration objects we only define the cost\n",
    "    # of non-observation as calibration targets only *need* to be pointinged once.\n",
    "    # Note: The can of course be pointinged many times. But\n",
    "    # for the calibration objects the real constraint is to have \n",
    "    # at least N out of M observed in each exposure.\n",
    "    # There is no requirement to repointing a specific calibration target.\n",
    "    cost_dict['cal_P01'] = 1e6\n",
    "    cost_dict['sky_P01'] = 1e6\n",
    "\n",
    "    # Here we add higher cost to later pointings. Ther should be one entry per pointing.\n",
    "    cost_dict['pointings'] = OrderedDict()\n",
    "    for i, pid in enumerate(pointings):\n",
    "          cost_dict['pointings'][pid] = i*10.\n",
    "\n",
    "    # Here we discourage large cobra moves. The example here is a simple\n",
    "    # linear function cost = A * move_distance \n",
    "    # where the parameter A controls how quickly the cost increases as funciton of distance.\n",
    "    #A = 250.\n",
    "    #A = 10.\n",
    "    A = 0.1\n",
    "    cost_dict['cobra_move'] = lambda d : d*A  \n",
    "\n",
    "\n",
    "    # Here we define how at least many objects out of each class we want observed.\n",
    "    supply_dict = {}\n",
    "    # By setting science object to inf, we say we want them all.\n",
    "    supply_dict['sci_P01'] = inf\n",
    "\n",
    "    # need one calibration star per exposure\n",
    "    supply_dict['cal_P01'] = 11 # force exactly 11\n",
    "    # need one sky positions per exposure\n",
    "    supply_dict['sky_P01'] = 328 # force exactly 328"
   ]
  },
  {
   "cell_type": "markdown",
   "metadata": {},
   "source": [
    "# Read the catalogs, compute visibility ... "
   ]
  },
  {
   "cell_type": "code",
   "execution_count": 30,
   "metadata": {},
   "outputs": [
    {
     "name": "stdout",
     "output_type": "stream",
     "text": [
      "12531 science targets, 20 calibration targets, and 567 sky positions survive radial cut.\n"
     ]
    }
   ],
   "source": [
    "# Convert data to lists for ETS and (mayby) apply radial cut.\n",
    "ID, ra, dec, exp_times, priorities, types, class_dict, ii_sci, ii_cal, ii_sky = \\\n",
    "    utils.combineTargetLists(science_targets, cal_stars, sky_pos, DRMAX_SQ)\n",
    "print( \"{} science targets, {} calibration targets, and {} sky positions survive radial cut.\".format(sum(ii_sci),sum(ii_cal),sum(ii_sky)))"
   ]
  },
  {
   "cell_type": "code",
   "execution_count": 31,
   "metadata": {},
   "outputs": [
    {
     "name": "stdout",
     "output_type": "stream",
     "text": [
      "Priority classes:  [1]\n"
     ]
    }
   ],
   "source": [
    "print (\"Priority classes: \", np.unique(priorities))\n",
    "# assign random priorities between 1 and 3 for the  science targets\n",
    "if RANDOM_PRIORITIES:\n",
    "    priorities = randomPriorities(ii_sci, high=1, low=4)"
   ]
  },
  {
   "cell_type": "code",
   "execution_count": 32,
   "metadata": {
    "collapsed": true
   },
   "outputs": [],
   "source": [
    "if RANDOMIZENREQ:\n",
    "    nreqv_dict = utils.randomExposures(ID, NPOINTINGS=10)"
   ]
  },
  {
   "cell_type": "code",
   "execution_count": 33,
   "metadata": {},
   "outputs": [
    {
     "name": "stdout",
     "output_type": "stream",
     "text": [
      "Unique sequence of required repointings [1]\n"
     ]
    }
   ],
   "source": [
    "# compute number of required visists from exposure times\n",
    "# and block length\n",
    "nreqv_dict = {}\n",
    "for id,t,nrv in zip(ID, types, np.array(exp_times)/BLOCKLENGTH):\n",
    "    nreqv_dict[id] = max( int(nrv), 1)\n",
    "    \n",
    "print( \"Unique sequence of required repointings\", np.unique( [v for v in nreqv_dict.values()] ))"
   ]
  },
  {
   "cell_type": "code",
   "execution_count": 34,
   "metadata": {
    "collapsed": true
   },
   "outputs": [],
   "source": [
    "import pyETS\n",
    "import pycconv\n",
    "\n",
    "# Temporary, very crude method to convert Ra/Dec pairs to x/y coordinates\n",
    "# on the focal plane. To be replaced by the official functionality once\n",
    "# available.\n",
    "# All input angles are expected in degrees.\n",
    "def radec2pos(ras, decs, raTel=None, decTel=None, posang=0.,\n",
    "              time=\"2016-04-03T08:00:00Z\"):\n",
    "    if raTel is None:\n",
    "        raTel = np.average(ras)\n",
    "    if decTel is None:\n",
    "        decTel = np.average(decs)\n",
    "    return pycconv.cconv(ras,decs,raTel,decTel,posang+90.,time)\n",
    "\n",
    "# get a data structure containing the idealized cobras\n",
    "ets_cobras = pyETS.getAllCobras()\n",
    "\n",
    "# for every pointing, compute target positions\n",
    "# in the focal plane \n",
    "# and a visibilty map\n",
    "visibility_maps = OrderedDict()\n",
    "ets_target_pos  = OrderedDict()\n",
    "for pid,(pointing_RA,pointing_DEC) in pointings.items():\n",
    "    # Parse a target file and return the quantities of interest\n",
    "    ets_target_pos[pid] = radec2pos(ra, dec, raTel=pointing_RA, decTel=pointing_DEC)\n",
    "\n",
    "    # get a list of targets, and a list of Cobras that can observe them\n",
    "    # keys contain object index\n",
    "    # values contain indices of cobras that can observe that object.\n",
    "    visibility_maps[pid] = pyETS.getVis(ets_target_pos[pid], ets_cobras)"
   ]
  },
  {
   "cell_type": "code",
   "execution_count": 35,
   "metadata": {
    "collapsed": true
   },
   "outputs": [],
   "source": [
    "#Interface to the new ETS, convert cobras, visibilities and targets to old style format\n",
    "cobras, dots, target_fplane_pos, visibilities, targets = \\\n",
    "    utils.convert_to_newstyle_ets(ID, ets_cobras, ets_target_pos, visibility_maps)"
   ]
  },
  {
   "cell_type": "code",
   "execution_count": 36,
   "metadata": {
    "collapsed": true
   },
   "outputs": [],
   "source": [
    "if PLOT_FOCAL_PLANE_FOR_ALL_POINTINGS:\n",
    "    from pfs_netflow.plotting import plotFP\n",
    "    #plotFP(cobras,dots,target_fplane_pos,maxx=20.,maxy=20.)"
   ]
  },
  {
   "cell_type": "code",
   "execution_count": 37,
   "metadata": {
    "collapsed": true,
    "scrolled": false
   },
   "outputs": [],
   "source": [
    "if PLOT_TARGET_DISTRIBUTION:\n",
    "    from pfs_netflow.plotting import plotTargetDistribution\n",
    "    plotTargetDistribution(ra, dec, types, pointings, target_fplane_pos, class_dict)"
   ]
  },
  {
   "cell_type": "markdown",
   "metadata": {},
   "source": [
    "# Invert visibilities"
   ]
  },
  {
   "cell_type": "code",
   "execution_count": 38,
   "metadata": {},
   "outputs": [
    {
     "name": "stdout",
     "output_type": "stream",
     "text": [
      "Pointing 0\n",
      " 12531 targets positions in total.\n",
      " 20 cal. targets in total.\n",
      " 567 sky positions in total.\n",
      "   2353 cobras have at least one target in reach.\n",
      "   8036 science targets\n",
      "     10 calibration targets,\n",
      "    378 sky positions \n",
      "are in reach of at least one cobra.\n",
      "\n"
     ]
    }
   ],
   "source": [
    "# Compute a few statistics:\n",
    "# Number of rachable targets by type and\n",
    "# number of cobras that can observe any target.\n",
    "ivisibilities = utils.invert_vis(visibilities)\n",
    "utils.computeObservabityStats(visibilities, class_dict, ii_sci, ii_cal, ii_sky)"
   ]
  },
  {
   "cell_type": "markdown",
   "metadata": {},
   "source": [
    "# Execute netflow"
   ]
  },
  {
   "cell_type": "code",
   "execution_count": 56,
   "metadata": {
    "scrolled": true
   },
   "outputs": [
    {
     "name": "stdout",
     "output_type": "stream",
     "text": [
      "Creating graph ...\n",
      "buildSurveyPlan\n",
      "Pointing 0\n",
      "   Number of targets in TClass_sci_P01 is 12531.\n",
      "   Number of observable targets in TClass_sci_P01 is 12531.\n",
      "   Number of calibration stars: 10\n",
      "   Number of observable calibration stars: 10\n",
      "   Number of sky positions: 378\n",
      "   Number of observable sky positions: 378\n",
      "Done.\n"
     ]
    }
   ],
   "source": [
    "# Build the survey plan graph.\n",
    "from numpy import inf\n",
    "from pfs_netflow.survey_plan import buildSurveyPlan\n",
    "from pfs_netflow.plotting import plotSurveyPlan\n",
    "\n",
    "print(\"Creating graph ...\")\n",
    "\n",
    "# build the survey plan graph\n",
    "g = buildSurveyPlan(cobras, targets, nreqv_dict, visibilities, class_dict,\\\n",
    "                    cost_dict, supply_dict, RMAX, CENTER=(0.,0.), COBRAS=[], PRINTSTATS=True)"
   ]
  },
  {
   "cell_type": "code",
   "execution_count": 57,
   "metadata": {},
   "outputs": [
    {
     "name": "stdout",
     "output_type": "stream",
     "text": [
      "Building LP problem ...\n",
      "NPOINTINGS = 1\n",
      "Searching optimal strategy to observe in \n",
      " 1 pointings\n",
      " 12531 science targets\n",
      " 587 calib. targets\n",
      " 2394 cobras\n",
      "num nodes: 30441\n",
      "num edges: 51392\n",
      "Building cost equation ...\n",
      "Time to build model: 1.4567e+00 s\n"
     ]
    }
   ],
   "source": [
    "# now build the LP problem\n",
    "from pfs_netflow.lp import buildLPProblemGRB\n",
    "import time\n",
    "    \n",
    "model = buildLPProblemGRB(g, name=name)\n",
    "model.write(\"mps/{}_{}_{}_{}.mps.gz\".format(name, fieldsize, RMAX, len(g.pointings) ))"
   ]
  },
  {
   "cell_type": "code",
   "execution_count": 41,
   "metadata": {
    "collapsed": true
   },
   "outputs": [],
   "source": [
    "#model.read(\"prm/GE_tune_000.prm\")"
   ]
  },
  {
   "cell_type": "code",
   "execution_count": 58,
   "metadata": {},
   "outputs": [
    {
     "name": "stdout",
     "output_type": "stream",
     "text": [
      "Pointing 0: Found  6041 collision pairs.\n",
      " Time to completion: 2.06 s\n",
      "Adding 6041 collision avoidance constraints.\n"
     ]
    }
   ],
   "source": [
    "### Endpoint fiber to fiber collision avoidance\n",
    "#ENABLE_COLLISION_AVOIDANCE = True\n",
    "if ENABLE_COLLISION_AVOIDANCE:\n",
    "    lp.add_fiber_fiber_collision_avoidance(g, model, pointings, target_fplane_pos)\n",
    "    filename = \"mps/{}_{}_{}_{}.mps.gz\".format(name, fieldsize, RMAX, len(g.pointings), rename=1)\n",
    "    model.write(filename)"
   ]
  },
  {
   "cell_type": "code",
   "execution_count": 59,
   "metadata": {},
   "outputs": [
    {
     "name": "stdout",
     "output_type": "stream",
     "text": [
      "Computing potential cobra elbow positions ...\n",
      "Number of cobras: 2394\n",
      "Finding fiber-fiber, fiber-elbow, and elbow-elbow collisions ...\n",
      "Pointing 0: Found  23008 collision pairs.\n",
      "Adding flow constraints to model ...\n",
      "Added 23008 collision flow constraints.\n"
     ]
    }
   ],
   "source": [
    "### Endpoint fiber to fiber, fiber to elbow, elbow to elbow collision avoidance\n",
    "#ENABLE_ELBOW_COLLISION_AVOIDANCE = True\n",
    "if ENABLE_ELBOW_COLLISION_AVOIDANCE:\n",
    "    lp.add_fiber_elbow_collision_avoidance(g, model, ivisibilities, fiber_collision_radius = 1.0)\n",
    "    filename = \"mps/{}_{}_{}_{}.mps.gz\".format(name, fieldsize, RMAX, len(g.pointings), rename=1)\n",
    "    model.write(filename)"
   ]
  },
  {
   "cell_type": "code",
   "execution_count": 60,
   "metadata": {
    "scrolled": false
   },
   "outputs": [
    {
     "name": "stdout",
     "output_type": "stream",
     "text": [
      "Solving LP problem ...\n",
      "Changed value of parameter timelimit to 600000.0\n",
      "   Prev: 1e+100  Min: 0.0  Max: 1e+100  Default: 1e+100\n",
      "Changed value of parameter Threads to 7\n",
      "   Prev: 0  Min: 0  Max: 1024  Default: 0\n",
      "Changed value of parameter MIPGap to 0.003\n",
      "   Prev: 0.0001  Min: 0.0  Max: 1e+100  Default: 0.0001\n",
      "Optimize a model with 57096 rows, 51393 columns and 169304 nonzeros\n",
      "Variable types: 1 continuous, 51392 integer (38858 binary)\n",
      "Coefficient statistics:\n",
      "  Matrix range     [4e-03, 1e+09]\n",
      "  Objective range  [1e+00, 1e+00]\n",
      "  Bounds range     [1e+00, 1e+06]\n",
      "  RHS range        [1e+00, 1e+04]\n",
      "Warning: Model contains large matrix coefficients\n",
      "         Consider reformulating model or setting NumericFocus parameter\n",
      "         to avoid numerical issues.\n",
      "Presolve removed 57077 rows and 51341 columns\n",
      "Presolve time: 0.15s\n",
      "Presolved: 19 rows, 52 columns, 83 nonzeros\n",
      "Variable types: 0 continuous, 52 integer (52 binary)\n",
      "Found heuristic solution: objective 3.104339e+07\n",
      "\n",
      "Explored 0 nodes (0 simplex iterations) in 0.42 seconds\n",
      "Thread count was 7 (of 8 available processors)\n",
      "\n",
      "Solution count 1: 3.10434e+07 \n",
      "\n",
      "Optimal solution found (tolerance 3.00e-03)\n",
      "Best objective 3.104339452599e+07, best bound 3.104119146669e+07, gap 0.0071%\n",
      "Solve status is [2].\n",
      "Time to solve: 4.2881e-01 s\n",
      "Value of cost function = 31043394.52599012\n",
      "[2102] out of 12531 science targets get observed.\n",
      "For 2102 out of these all required exposures got allocated.\n",
      "Per target class completion:\n",
      "   class           total      observed   completed \n",
      "   TClass_sci_P01       12531       2102       2102\n",
      "10429 targets get sent down the overflow arc.\n",
      "2352 out of 2394 cobras observed a target in one or more exposures.\n",
      "2352 cobras observed a target in all exposures.\n"
     ]
    }
   ],
   "source": [
    "random.seed(42)\n",
    "\n",
    "lp.optimize(model, g, SOLVE_TIME_LIMIT, NUMER_OF_THREDS, MIP_GAP)\n",
    "\n",
    "survey_plan.report_optimize_stats(model, g)"
   ]
  },
  {
   "cell_type": "markdown",
   "metadata": {},
   "source": [
    "# Check up on collisions "
   ]
  },
  {
   "cell_type": "code",
   "execution_count": 45,
   "metadata": {},
   "outputs": [
    {
     "name": "stdout",
     "output_type": "stream",
     "text": [
      "Detected 90 fiber to fiber endpoint collisions\n"
     ]
    }
   ],
   "source": [
    "# Simple fiber to fiber collision detection\n",
    "\n",
    "# test if really no colliding targets were observed\n",
    "# This needs to be added to the survey plan and buildLPProblem methods.\n",
    "#\n",
    "\n",
    "from pfs_netflow.survey_plan import compute_collision_pairs, compute_collision_flow_pairs\n",
    "\n",
    "\n",
    "    \n",
    "if not 'collision_pairs' in vars():\n",
    "    collision_pairs = compute_collision_pairs(pointings, target_fplane_pos) \n",
    "\n",
    "flow_pairs = compute_collision_flow_pairs(g, collision_pairs)\n",
    " \n",
    "NCOLL = 0\n",
    "for fp in flow_pairs:\n",
    "    f1 = g.arcs[ fp[0] ].flow\n",
    "    f2 = g.arcs[ fp[1] ].flow\n",
    "    \n",
    "    if f1 > 0. and f2 > 0.:\n",
    "        #print(\"{} {} in collision\".format(fp[0],fp[1]))\n",
    "        NCOLL += 1\n",
    "                             \n",
    "print(\"Detected {} fiber to fiber endpoint collisions\".format(NCOLL))"
   ]
  },
  {
   "cell_type": "markdown",
   "metadata": {
    "collapsed": true,
    "scrolled": false
   },
   "source": [
    "# Itereative trajectory collision avoidance"
   ]
  },
  {
   "cell_type": "code",
   "execution_count": 46,
   "metadata": {},
   "outputs": [
    {
     "name": "stdout",
     "output_type": "stream",
     "text": [
      "Building LP problem ...\n",
      "NPOINTINGS = 1\n",
      "Searching optimal strategy to observe in \n",
      " 1 pointings\n",
      " 12531 science targets\n",
      " 587 calib. targets\n",
      " 2394 cobras\n",
      "num nodes: 30441\n",
      "num edges: 51392\n",
      "Building cost equation ...\n",
      "Time to build model: 1.1698e+00 s\n",
      "Optimize a model with 28047 rows, 51393 columns and 111206 nonzeros\n",
      "Variable types: 1 continuous, 51392 integer (38858 binary)\n",
      "Coefficient statistics:\n",
      "  Matrix range     [4e-03, 1e+09]\n",
      "  Objective range  [1e+00, 1e+00]\n",
      "  Bounds range     [1e+00, 1e+06]\n",
      "  RHS range        [4e+01, 1e+04]\n",
      "Warning: Model contains large matrix coefficients\n",
      "         Consider reformulating model or setting NumericFocus parameter\n",
      "         to avoid numerical issues.\n",
      "Presolve removed 28043 rows and 51388 columns\n",
      "Presolve time: 0.07s\n",
      "Presolved: 4 rows, 5 columns, 9 nonzeros\n",
      "Variable types: 0 continuous, 5 integer (5 binary)\n",
      "Found heuristic solution: objective 3.104339e+07\n",
      "\n",
      "Explored 0 nodes (0 simplex iterations) in 0.23 seconds\n",
      "Thread count was 8 (of 8 available processors)\n",
      "\n",
      "Solution count 1: 3.10434e+07 \n",
      "\n",
      "Optimal solution found (tolerance 1.00e-04)\n",
      "Best objective 3.104339180618e+07, best bound 3.104319256519e+07, gap 0.0006%\n"
     ]
    }
   ],
   "source": [
    "from pfs_netflow import ics_interface\n",
    "import random\n",
    "random.seed(42)\n",
    "\n",
    "####\n",
    "# FOR DEBUGGIN ONLY - MINIMAL PECE OF CODE TO REBUILD LP PROBLEM FROM\n",
    "# \"SCRATCH\" AN OPTIMIZE.\n",
    "###\n",
    "model.reset()\n",
    "model = buildLPProblemGRB(g, name=name)\n",
    "\n",
    "if ENABLE_COLLISION_AVOIDANCE:\n",
    "    lp.add_fiber_fiber_collision_avoidance(g, model, pointings, target_fplane_pos)\n",
    "\n",
    "if ENABLE_ELBOW_COLLISION_AVOIDANCE:\n",
    "    lp.add_fiber_elbow_collision_avoidance(g, model, ivisibilities, fiber_collision_radius = 0.8)\n",
    "    \n",
    "filename = \"mps/{}_{}_{}_{}_colliter{:02d}.mps.gz\".format(name, fieldsize, RMAX, len(g.pointings), 0)\n",
    "model.write(filename)\n",
    "    \n",
    "model.optimize()\n",
    "\n",
    "model.write(filename.replace(\".mps\",\".sol\"))\n",
    "survey_plan.setflows(model, g)"
   ]
  },
  {
   "cell_type": "code",
   "execution_count": 48,
   "metadata": {
    "scrolled": false
   },
   "outputs": [
    {
     "ename": "SyntaxError",
     "evalue": "invalid syntax (<ipython-input-48-279bb38ca0f2>, line 111)",
     "output_type": "error",
     "traceback": [
      "\u001b[0;36m  File \u001b[0;32m\"<ipython-input-48-279bb38ca0f2>\"\u001b[0;36m, line \u001b[0;32m111\u001b[0m\n\u001b[0;31m    ERROR, DID NOT DEAL WITH NEIGHBORING COBRAS HERE\u001b[0m\n\u001b[0m                 ^\u001b[0m\n\u001b[0;31mSyntaxError\u001b[0m\u001b[0;31m:\u001b[0m invalid syntax\n"
     ]
    }
   ],
   "source": [
    "# This is the iterative collision avoidance\n",
    "from gurobipy import quicksum\n",
    "\n",
    "MAXITER = 5 # maximum number of iterations of iterative collision avoidance\n",
    "\n",
    "# create bench instance, for each pointing\n",
    "bench = OrderedDict()\n",
    "for pid in pointings:\n",
    "    bench[pid] = ics_interface.getBench(g, pid)\n",
    "\n",
    "survey_plan.compute_cobra_neighbors(g, R = 15.)\n",
    "\n",
    "for i in range(MAXITER):\n",
    "    print(\"###########################################\")\n",
    "    print(\"Iteration {} ...\".format(i+1))\n",
    "    print(\"###########################################\")\n",
    "    ncollisions = OrderedDict()\n",
    "\n",
    "    for pid in pointings:\n",
    "\n",
    "        simulator,assignments,cids = ics_interface.getCollSim(g, pid, bench[pid], PLOT=True, ZOOMIN=False)\n",
    "        ncollisions[pid] = simulator.nCollisions\n",
    "\n",
    "        if simulator.nCollisions == 0:\n",
    "            break\n",
    "\n",
    "        a,b = simulator.bench.cobraAssociations[:,simulator.associationCollisions]\n",
    "        # identify which flows (e.g. cobra to target assignments) led to collisions\n",
    "        flow_pairs = []\n",
    "        print(\"Colliding flows:\")\n",
    "        for c1,c2 in zip(a,b):\n",
    "            cid1 = cids[c1]\n",
    "            cid2 = cids[c2]\n",
    "            fid1 = \"{}_v{}={}_v{}\".format( assignments[cid1][0], pid, cid1, pid )\n",
    "            fid2 = \"{}_v{}={}_v{}\".format( assignments[cid2][0], pid, cid2, pid )\n",
    "            if fid1 in g.flows and fid2 in g.flows:\n",
    "                print(\"   \", fid1, \": \", g.arcs[fid1].flow, \"   \", fid2, \": \", g.arcs[fid2].flow )\n",
    "                flow_pairs.append((fid1, fid2))\n",
    "                \n",
    "    \n",
    "        # Add now flow constraints to force the LP solver to choose between either of the two \n",
    "        # colliding flows in each collision pair.\n",
    "        if True: # must be true for iterative collision avoidance to work\n",
    "            ics_interface.addCollisionFlowConstraints(model, g.flows, flow_pairs)\n",
    "           \n",
    "        ### DEBUGGIN ONLY ####\n",
    "        #fid1=\"T_C044677_vA=C_342_vA\"\n",
    "        #fid2=\"T_C044758_vA=C_344_vA\"\n",
    "        #model.addConstr( quicksum( [ flows[ fid1 ], flows[ fid2 ] ] ) <= 1. , \"{}_OR_{}\".format(fid1,fid2))\n",
    "        ###\n",
    "        \n",
    "        #for fp in flow_pairs:\n",
    "        #    if fp[0] in flows and fp[1] in flows:\n",
    "        #        i += 1\n",
    "        #        model.addConstr( quicksum( [ flows[ fp[0] ], flows[ fp[1] ] ] ) <= 1. )\n",
    "        #    elif not fp[0] in flows:\n",
    "        #        print(\"No flow variable for {}\".format(fp[0]))\n",
    "        #    elif not fp[1] in flows:\n",
    "        #        print(\"No flow variable for {}\".format(fp[1]))\n",
    "        #print(\"Added {} collision flow constraints.\".format(i))\n",
    "\n",
    "    # Try starts\n",
    "    if False:    \n",
    "        flows_sol = model.getAttr('X', g.flows)\n",
    "        for k in flows_sol:\n",
    "                flows[k].start = flows_sol[k]\n",
    "        #flows[k]\n",
    "\n",
    "        #for (fid1, fid2) in flow_pairs:\n",
    "        #    flows[fid1].start = 0\n",
    "        #    flows[fid2].start = 0\n",
    "\n",
    "    # Try hints\n",
    "    if False:\n",
    "        # set last found solution as hints for the reoptimisation\n",
    "        flows_sol = model.getAttr('X', g.flows)\n",
    "        constr_flows = [ fp[0] for fp in flow_pairs ] + [ fp[1] for fp in flow_pairs ] # list of flows that we just set a constraint on\n",
    "        for k in flows_sol:\n",
    "            # don't give hint for flow which we just constrained\n",
    "            if not k in constr_flows:\n",
    "                flows[k].VarHintVal = flows_sol[k]\n",
    "                flows[k].VarHintPri = 10\n",
    "            else:\n",
    "                print(\"Not setting hint for {}.\".format(k))\n",
    "                \n",
    "        model.write(filename.replace(\".mps\",\".mst\"))\n",
    "                \n",
    "    # try fix LB/UP outside of vicinity of colliding cobras           \n",
    "    if False:\n",
    "        # here we try to fix upper and lower bounds for all TargetPointingToCobraPointingArc\n",
    "        # to the values of the last solution\n",
    "        # we then reopen the bounds for cobras only in the vicinity of colliding ones\n",
    "        #\n",
    "        # set last found solution as hints for the reoptimisation\n",
    "        flows_sol = model.getAttr('X', g.flows)\n",
    "        constr_flows = [ fp[0] for fp in flow_pairs ] + [ fp[1] for fp in flow_pairs ] # list of flows that we just set a constraint on\n",
    "        for k in flows_sol:\n",
    "            a = g.arcs[k]\n",
    "            if  type(a) == dm.TargetPointingToCobraPointingArc:\n",
    "                # don't give hint for flow which we just constrained\n",
    "                if not k in constr_flows:\n",
    "                    #print(\"Fixing flow for {} to {}.\".format(k, flows_sol[k]) )\n",
    "                    flows[k].UB = flows_sol[k] # fix flow completely\n",
    "                    flows[k].LB = flows_sol[k] # fix flow completely\n",
    "                else:\n",
    "                    print(\"Not setting bounds for {}.\".format(k))\n",
    "\n",
    "        # open up flows for all colliding cobras and cobras in their vicinity\n",
    "        # NOTE: MUST BE FIXED SUCH THTA IT ONLY OPERATES ON THE CURRENT POINTING, I think\n",
    "        \n",
    "        ERROR, DID NOT DEAL WITH NEIGHBORING COBRAS HERE\n",
    "        for k in constr_flows:\n",
    "            if k in g.arcs:\n",
    "                print(\"Reopening bounds for{}\".format(k))\n",
    "                a = g.arcs[k]\n",
    "                n2 = a.endnode\n",
    "                for a in n2.inarcs:\n",
    "                    flows[a.id].UB = 1.\n",
    "                    flows[a.id].LB = 0.\n",
    "                \n",
    "    #model.update()\n",
    "    #model.reset()\n",
    "    \n",
    "    #import os\n",
    "    #if os.path.exists('tmp.sol'):\n",
    "    #    model.read('tmp.sol')\n",
    "    \n",
    "    \n",
    "    #filename = \"mps/{}_{}_{}_{}_colliter{:02d}.mps.gz\".format(name, fieldsize, RMAX, NPOINTINGS, i+1)\n",
    "    #model.write(filename)\n",
    "    \n",
    "    #total numer of collisions accross all pointings\n",
    "    ncoll_total = sum( [v for v in ncollisions.values()])\n",
    "    if ncoll_total == 0:\n",
    "        break\n",
    "    # Re-Solve problem!\n",
    "    lp.optimize(model, g, SOLVE_TIME_LIMIT, NUMER_OF_THREDS, MIP_GAP)\n",
    "\n",
    "    survey_plan.report_optimize_stats(model, g)\n",
    "\n",
    "    \n",
    "    ###\n",
    "    "
   ]
  },
  {
   "cell_type": "code",
   "execution_count": null,
   "metadata": {
    "collapsed": true
   },
   "outputs": [],
   "source": [
    "sys.exit(0)"
   ]
  },
  {
   "cell_type": "markdown",
   "metadata": {},
   "source": [
    "# Plotting "
   ]
  },
  {
   "cell_type": "code",
   "execution_count": null,
   "metadata": {
    "collapsed": true
   },
   "outputs": [],
   "source": [
    "if PLOT_SURVEY_PLAN:\n",
    "    plotSurveyPlan(g)"
   ]
  },
  {
   "cell_type": "code",
   "execution_count": null,
   "metadata": {
    "collapsed": true,
    "scrolled": false
   },
   "outputs": [],
   "source": [
    "if PLOT_FOCAL_PLANE:\n",
    "    from pfs_netflow.plotting import plotFocalPlane\n",
    "    for pid in pointings:\n",
    "        plotFocalPlane(g, pid=pid, W=30, XC=0., YC=0., name=\"\", figsize=[5,5])"
   ]
  },
  {
   "cell_type": "code",
   "execution_count": 55,
   "metadata": {},
   "outputs": [
    {
     "name": "stdout",
     "output_type": "stream",
     "text": [
      "Computing target completion ...\n",
      "   Pointing:  0\n",
      "Done, write CMP_ETS_FIBER_ASSIGNER_completion.txt.\n",
      " N  pid sci_P01 cal_P01 sky_P01\n",
      "--- --- ------- ------- -------\n",
      "  0   0    2102      10     240\n"
     ]
    },
    {
     "data": {
      "text/plain": [
       "<matplotlib.text.Text at 0x117434e48>"
      ]
     },
     "execution_count": 55,
     "metadata": {},
     "output_type": "execute_result"
    },
    {
     "data": {
      "image/png": "[encoded data removed]",
      "text/plain": [
       "<matplotlib.figure.Figure at 0x11900fcf8>"
      ]
     },
     "metadata": {},
     "output_type": "display_data"
    }
   ],
   "source": [
    "# more detailed per class and per pointing completion analysis\n",
    "from pfs_netflow.survey_plan import computeCompletion\n",
    "t = computeCompletion(g, class_dict, \"{}_completion.txt\".format(name))\n",
    "t.pprint()\n",
    "\n",
    "# And plot the results\n",
    "\n",
    "f = plt.figure(figsize=[10,7])\n",
    "\n",
    "tclasses = t.keys()[2:]\n",
    "\n",
    "for tc in tclasses:\n",
    "    plt.plot(t['N'], t[tc], label='tc', lw=2)\n",
    "    plt.text(t['N'][-1], t[tc][-1], t[tc][-1])\n",
    "\n",
    "plt.xlabel('pointing')\n",
    "plt.ylabel('Cumulative number of observed targets')\n"
   ]
  },
  {
   "cell_type": "code",
   "execution_count": null,
   "metadata": {
    "collapsed": true
   },
   "outputs": [],
   "source": [
    "# And plot the results\n",
    "# reproduce Hayashi san's plot for Umi\n",
    "\n",
    "def plotKohei(_t):\n",
    "    f = plt.figure(figsize=[10,7])\n",
    "\n",
    "\n",
    "    P01to05 = _t['sci_P01'] + _t['sci_P02'] + _t['sci_P03'] + _t['sci_P04'] + _t['sci_P05']\n",
    "    P06to10 = _t['sci_P06'] + _t['sci_P07'] + _t['sci_P08'] + _t['sci_P09'] + _t['sci_P10']\n",
    "    PALL = P01to05 + P06to10\n",
    "    #plt.plot(t['N'], P01to05, drawstyle='steps-mid', label='P01-P05', c='orange')\n",
    "    #plt.plot(t['N'], P06to10, drawstyle='steps-mid', label='P06-P07', c='purple')\n",
    "\n",
    "    width = 0.5\n",
    "\n",
    "    p1 = plt.bar(_t['N'], P01to05, width, fc='purple', label='P01-P05')\n",
    "    p2 = plt.bar(_t['N'], P06to10, width,\n",
    "                 bottom=P01to05, fc='orange', label='P06-P07')\n",
    "\n",
    "    plt.plot(t['N'], PALL, label='all', c='red', lw=2)\n",
    "\n",
    "\n",
    "    plt.xlabel('pointing')\n",
    "    plt.ylabel('Cumulative number of observed targets')\n",
    "    plt.text(_t['N'][-1], P01to05[-1], P01to05[-1])\n",
    "    plt.text(_t['N'][-1], PALL[-1], PALL[-1])\n",
    "    plt.xticks([0,6,12,18,24,30,36,42,48])\n",
    "\n",
    "    plt.xlim([0.,49.5])\n",
    "    plt.ylim([0.,6000])\n",
    "    \n",
    "if name == \"GA\":\n",
    "    plotKohei(t)\n",
    "    plotKohei(t_ETS)\n"
   ]
  },
  {
   "cell_type": "markdown",
   "metadata": {},
   "source": [
    "# Routine to generate random target lists"
   ]
  },
  {
   "cell_type": "code",
   "execution_count": null,
   "metadata": {
    "collapsed": true
   },
   "outputs": [],
   "source": [
    "\n",
    "# make up calibration stars and sky positions\n",
    "# careful IDs of all objects must be unique!!!\n",
    "from astropy.table import Table, Column\n",
    "\n",
    "cal_stars = Table()\n",
    "sky_pos   = Table()\n",
    "\n",
    "NSTAR = 400\n",
    "NSKY  = int( 10000/4. * 0.65)\n",
    "\n",
    "rr_star = np.random.uniform(size=NSTAR, low=RAmin, high=RAmax)\n",
    "dd_star = np.random.uniform(size=NSTAR, low=DECmin, high=DECmax)\n",
    "tt_star = np.ones_like(rr_star) * 900.\n",
    "pp_star = np.ones_like(rr_star) * 1\n",
    "\n",
    "cal_stars['ID']        = Column([\"F{:06d}\".format(i) for i in range(NSTAR)], unit='', description='')\n",
    "cal_stars['RA']        = Column(rr_star, unit='deg', description='RA')\n",
    "cal_stars['DEC']       = Column(dd_star, unit='deg', description='DEC')\n",
    "cal_stars['EXP_TIME']  = Column(tt_star, unit='s', description='Exposure time')\n",
    "cal_stars['Priority']  = Column(pp_star, unit='', description='Priority', dtype='int')\n",
    "\n",
    "\n",
    "rr_sky = np.random.uniform(size=NSKY, low=RAmin, high=RAmax)\n",
    "dd_sky = np.random.uniform(size=NSKY, low=DECmin, high=DECmax)\n",
    "tt_sky = np.ones_like(rr_sky) * 900.\n",
    "pp_sky = np.ones_like(rr_sky) * 1\n",
    "\n",
    "sky_pos['ID']        = Column([\"K{:06d}\".format(i) for i in range(NSKY)], unit='', description='')\n",
    "sky_pos['RA']        = Column(rr_sky, unit='deg', description='RA')\n",
    "sky_pos['DEC']       = Column(dd_sky, unit='deg', description='DEC')\n",
    "sky_pos['EXP_TIME']  = Column(tt_sky, unit='s', description='Exposure time')\n",
    "sky_pos['Priority']  = Column(pp_sky, unit='', description='Priority', dtype='int')\n",
    "\n",
    "#cal_stars.write(\"pfs_target_list/pfs_preliminary_target_archaeology_umi_fcstars.dat\", format=\"ascii\", overwrite=True)\n",
    "sky_pos.write(\"pfs_target_list/pfs_preliminary_target_archaeology_umi_fcstars_mock_lowdensity.dat\", format=\"ascii\", overwrite=True)"
   ]
  },
  {
   "cell_type": "markdown",
   "metadata": {},
   "source": [
    "# Model tuning"
   ]
  },
  {
   "cell_type": "code",
   "execution_count": null,
   "metadata": {
    "collapsed": true
   },
   "outputs": [],
   "source": [
    "if MODEL_TUNING or True:\n",
    "    model.tune()\n",
    "    tune_results = []\n",
    "    for i in range(model.tuneResultCount):\n",
    "        model.getTuneResult(i)\n",
    "        model.write(\"./prm/{}_tune_{:03d}.prm\".format(name,i))\n",
    "\n",
    "    model.getTuneResult(1)"
   ]
  },
  {
   "cell_type": "markdown",
   "metadata": {},
   "source": [
    "# performance comparison ETS vs. netflow"
   ]
  },
  {
   "cell_type": "code",
   "execution_count": null,
   "metadata": {
    "collapsed": true
   },
   "outputs": [],
   "source": [
    "len( [class_dict[ID[r]] for r in res] )"
   ]
  },
  {
   "cell_type": "code",
   "execution_count": null,
   "metadata": {
    "collapsed": true
   },
   "outputs": [],
   "source": [
    "len(ID)"
   ]
  },
  {
   "cell_type": "code",
   "execution_count": null,
   "metadata": {
    "collapsed": true,
    "scrolled": false
   },
   "outputs": [],
   "source": [
    "# Run ETS\n",
    "from astropy.table import Table, Column\n",
    "\n",
    "\n",
    "tclasses = [class_dict[id] for id in ID] \n",
    "uniq_tclasses = np.unique(tclasses)\n",
    "\n",
    "def fil(xx,bb):\n",
    "    \"\"\"\n",
    "    Takes a list of objects and a boolean list of same length.\n",
    "    Retruns a list with all thos object for which the boolean\n",
    "    input list had a True.\n",
    "    \"\"\"\n",
    "    new = []\n",
    "    for x,b in zip(xx,bb):\n",
    "        if b: new.append(x)\n",
    "    return new\n",
    "\n",
    "\n",
    "import numpy as np\n",
    "import time\n",
    "    \n",
    "ALGORITHM = \"new\"\n",
    "ALGORITHM = \"draining\"\n",
    "ALGORITHM = \"naive\"\n",
    "ALGORITHM = \"draining_closest\"\n",
    "\n",
    "ALL_ALGORITHM = [\"new\", \"draining\", \"naive\", \"draining_closest\"]\n",
    "\n",
    "obs_times = np.zeros_like(ID, dtype=float) # will store how much observation time each object recieved\n",
    "BLOCKTIME = 900.*2.\n",
    "\n",
    "NPOINTINGS = len(pointings)\n",
    "\n",
    "for ALGORITHM in [\"new\"]:\n",
    "    \n",
    "    completed = OrderedDict() # will store cumulative list of all targets that got completed\n",
    "    for tc in tclasses:\n",
    "        completed[tc] = 0\n",
    "    \n",
    "    \n",
    "    resultfile = \"ets_results_{}_{}_{}_{}_{}.txt\".format(name, fieldsize, RMAX, NPOINTINGS, ALGORITHM)\n",
    "    \n",
    "    print(\"ALGORITHM {}\".format(ALGORITHM))\n",
    "    NVISISTS = 10\n",
    "    ii_still_open = np.full_like(ID, True, dtype=bool)\n",
    "\n",
    "    # set priorities \n",
    "    # for cosmology do 1 for claibrators, and 5 for science\n",
    "    priorities2 = np.array(priorities)\n",
    "    priorities2[ii_sci] = 5\n",
    "    priorities2[~ii_sci] = 1\n",
    "    priorities2 = priorities2.tolist()\n",
    "    # for GA do 1 for calibrators, and original priority+2 for science, 15 will be \"already observed)\n",
    "    priorities2 = np.array(priorities)\n",
    "    priorities2[ii_sci] = priorities2[ii_sci] + 2\n",
    "    priorities2[~ii_sci] = 1\n",
    "    priorities2 = priorities2.tolist()\n",
    "    \n",
    "    # Assemble results in a convenient table\n",
    "    names = [\"N\", \"pid\"] + list(uniq_tclasses)\n",
    "    \n",
    "    dtype = ['i4', 'S8'] + ['i4'] * len(list(uniq_tclasses))\n",
    "    t_ETS = Table(names=names, dtype=dtype)\n",
    "\n",
    "    \n",
    "    s = \"# algorithm: {}\\n\".format(ALGORITHM)\n",
    "    s += \"# total number of vistis: {}\\n\".format(NVISISTS)\n",
    "\n",
    "    #s += \"# total number of observable science targets: {}\\n\".format(nsci_observable)\n",
    "    #s += \"# total number of observable cal. targets: {}\\n\".format(ncal_observable)\n",
    "    #s += \"# total number of observable sky positions: {}\\n\".format(nsky_observable)\n",
    "\n",
    "    print(s)\n",
    "\n",
    "    for i,pid in enumerate(pointings):\n",
    "        #if i == 3:\n",
    "        #    break\n",
    "        # reset completion counter for stars and skys as we dont want cumulative number for those\n",
    "        for tc in uniq_tclasses:\n",
    "            if \"cal\" in tc or \"sky\" in tc:\n",
    "                completed[tc] = 0 \n",
    "    \n",
    "\n",
    "        print(\"Ponting {}\".format(pid))\n",
    "        print(\" Number of remaining targets to observe: {}\".format(sum(ii)))\n",
    "\n",
    "        #print(\" Number of remaining cal. targets to observe: {}\".format( sum( np.array(types)[ii] == \"cal\" ) ))\n",
    "        #print(\" Number of remaining sky targets to observe: {}\".format( sum( np.array(types)[ii] == \"sky\" ) ))\n",
    "\n",
    "        start_time = time.time()\n",
    "        # perform target assignment using the \"draining\" algorithm, and return the list\n",
    "        # of assigned targets and which cobras were used to observe them.\n",
    "        #res = pyETS.getObs(fil(ets_target_pos,ii),fil(exp_times,ii),fil(priorities,ii),ets_cobras,\"draining_closest\")\n",
    "        res = pyETS.getObs(ets_target_pos[pid], exp_times, priorities2, ets_cobras, ALGORITHM)\n",
    "        time_to_build = time.time() - start_time\n",
    "        pp(\" Time to solve: {:.4e} s\".format(time_to_build))\n",
    "\n",
    "        # figure which out of all potential science targets have been observed\n",
    "        # and mark them as observed (set very low priority)\n",
    "        for r in res: \n",
    "            # r is the index of a particular object that was picked for observation\n",
    "            if types[r] == 'sci':\n",
    "                obs_times[r] = obs_times[r] + BLOCKTIME\n",
    "            if obs_times[r] > 0. and obs_times[r] < exp_times[r]:\n",
    "                # object recieved SOME observation but is not finished yet, \n",
    "                # set priority to the second highest (after calibration objects)\n",
    "                priorities2[r] = 2 \n",
    "                pass\n",
    "            elif obs_times[r] >= exp_times[r]:\n",
    "                # object recieved the required observation time,\n",
    "                # set to lowest priority\n",
    "                tc = tclasses[r]\n",
    "                if ii_still_open[r]:\n",
    "                    completed[tc] = completed[tc] + 1\n",
    "                    ii_still_open[r] = False # mark as done\n",
    "                priorities2[r] = 15\n",
    "            if types[r] == 'cal':\n",
    "                tc = tclasses[r]\n",
    "                completed[tc] = completed[tc] + 1\n",
    "            if types[r] == 'sky':\n",
    "                tc = tclasses[r]\n",
    "                completed[tc] = completed[tc] + 1\n",
    "       \n",
    "        # compute some statistics\n",
    "        nsci_observed = sum(np.array(types)[ list(res.keys()) ] == 'sci')\n",
    "        ncal_observed = sum(np.array(types)[ list(res.keys()) ] == 'cal')\n",
    "        nsky_observed = sum(np.array(types)[ list(res.keys()) ] == 'sky')\n",
    "        \n",
    "        \n",
    "        print(\" Observed {} science targets, {} calibration targets and {} sky positions\"\\\n",
    "              .format(nsci_observed, ncal_observed, nsky_observed))\n",
    "        print(\"Completed\")\n",
    "        #row = [i, pid, nsci_observed, ncal_observed, nsky_observed, nsci_observed_total]\n",
    "        #t_ETS.add_row(row)\n",
    "\n",
    "        row = [i, pid] + [completed[tc] for tc in uniq_tclasses]\n",
    "        t_ETS.add_row(row)\n",
    "        \n",
    "        t_ETS.write(resultfile, overwrite=True, format=\"ascii.commented_header\")\n",
    "        \n",
    "        #print(completed)\n",
    "        \n",
    "#np.any( np.array(types)[ res.keys() ] == 'cal' )\n",
    "\n",
    "t_ETS.pprint()\n",
    "\n",
    "# Plot unobserved targets\n",
    "from numpy import array\n",
    "from matplotlib import pyplot as plt\n",
    "% matplotlib inline\n",
    "f = plt.figure(figsize=[5,5])\n",
    "\n",
    "#plt.plot(fil(ra,~ii), fil(dec,~ii), '.', color='k')\n",
    "plt.plot(fil(ra,ii_still_open), fil(dec,ii_still_open), '.', color='r', alpha=0.1)\n",
    "\n",
    "plt.ylabel('dec [Deg]')\n",
    "plt.xlabel('ra [Deg]')\n",
    "#plt.axis(\"equal\")\n",
    "\n",
    "#plt.xlim([33.25,34.74])\n",
    "#plt.ylim([-5.25,-3.75])"
   ]
  },
  {
   "cell_type": "code",
   "execution_count": null,
   "metadata": {
    "collapsed": true
   },
   "outputs": [],
   "source": [
    "t_ETS"
   ]
  },
  {
   "cell_type": "code",
   "execution_count": null,
   "metadata": {
    "collapsed": true
   },
   "outputs": [],
   "source": [
    "t"
   ]
  },
  {
   "cell_type": "code",
   "execution_count": null,
   "metadata": {
    "collapsed": true
   },
   "outputs": [],
   "source": [
    "# And plot the results\n",
    "# reproduce Hayashi san's plot for Umi\n",
    "\n",
    "def plotGE(_t, fields = ['sci_P01', 'sci_P02', 'sci_P03', 'sci_P04', 'sci_P05', 'sci_P06']):\n",
    "    f = plt.figure(figsize=[10,7])\n",
    "    \n",
    "\n",
    "    #plt.plot(t['N'], P01to05, drawstyle='steps-mid', label='P01-P05', c='orange')\n",
    "    #plt.plot(t['N'], P06to10, drawstyle='steps-mid', label='P06-P07', c='purple')\n",
    "\n",
    "    width = 0.5\n",
    "\n",
    "    PALL = np.zeros([len(_t)])\n",
    "    for f in fields: \n",
    "        p1 = plt.bar(_t['N'], _t[f], width, bottom=PALL, label=f)\n",
    "        PALL += _t[f]\n",
    "                     \n",
    "    #p1 = plt.bar(_t['N'], PALL, width, fc='orange', label='P01-P06')\n",
    "    #p2 = plt.bar(_t['N'], P06to10, width,\n",
    "    #             bottom=P01to05, fc='orange', label='P06-P07')\n",
    "\n",
    "    plt.plot(t['N'], PALL, label='all', c='red', lw=2)\n",
    "\n",
    "\n",
    "    plt.xlabel('pointing')\n",
    "    plt.ylabel('Cumulative number of observed targets')\n",
    "    #plt.text(_t['N'][-1], P01to05[-1], P01to05[-1])\n",
    "    plt.text(_t['N'][-1], PALL[-1], PALL[-1])\n",
    "    #plt.xticks([0,6,12,18,24,30,36,42,48])\n",
    "\n",
    "    #plt.xlim([0.,49.5])\n",
    "    plt.legend(loc=2)\n",
    "    plt.ylim([0.,9000])\n",
    "    \n",
    "if name == \"GE\":\n",
    "    plotGE(t)\n",
    "    plt.title('netflow')\n",
    "    plotGE(t_ETS)\n",
    "    plt.title('ETS')"
   ]
  },
  {
   "cell_type": "code",
   "execution_count": null,
   "metadata": {
    "collapsed": true
   },
   "outputs": [],
   "source": [
    "t"
   ]
  },
  {
   "cell_type": "code",
   "execution_count": null,
   "metadata": {
    "collapsed": true
   },
   "outputs": [],
   "source": [
    "from astropy.io import ascii\n",
    "\n",
    "nwf_results_npointings = {}\n",
    "#nwf_results_npointings[12] = ascii.read(\"nwf_results_npointings12.txt\")\n",
    "#nwf_results_npointings[12] = ascii.read(\"nwf_results_npointings12.txt\")\n",
    "nwf_results_npointings[10] = ascii.read(\"nwf_results_npointings10_early_obs1.txt\")\n",
    "#nwf_results_npointings[9] = ascii.read(\"nwf_results_npointings9.txt\")\n",
    "#nwf_results_npointings[8] = ascii.read(\"nwf_results_npointings8.txt\")\n",
    "#nwf_results_npointings[7] = ascii.read(\"nwf_results_npointings7.txt\")\n",
    "#nwf_results_npointings[6] = ascii.read(\"nwf_results_npointings6.txt\")\n",
    "#nwf_results_npointings[5] = ascii.read(\"nwf_results_npointings5.txt\")\n",
    "#nwf_results_npointings[4] = ascii.read(\"nwf_results_npointings4.txt\")\n",
    "#nwf_results_npointings[3] = ascii.read(\"nwf_results_npointings3.txt\")\n",
    "#nwf_results_npointings[2] = ascii.read(\"nwf_results_npointings2.txt\")\n",
    "\n",
    "ets_results = {}\n",
    "ets_results[\"draining_closest\"] = ascii.read(\"ets_results_draining_closest.txt\")\n",
    "ets_results[\"draining\"] = ascii.read(\"ets_results_draining.txt\")\n",
    "ets_results[\"naive\"] = ascii.read(\"ets_results_naive.txt\")\n",
    "ets_results[\"new\"] = ascii.read(\"ets_results_new.txt\")\n",
    "\n",
    "#ascii.read(\"ets_results_draining_closest.txt\",format\n",
    "\n",
    "f = plt.figure(figsize=[8,8])\n",
    "\n",
    "for alg in ets_results:\n",
    "    plt.plot(ets_results[alg]['V']+1, ets_results[alg]['nsci_total'],'o-', label=alg)\n",
    "\n",
    "#for npointings in nwf_results_npointings:\n",
    "#    plt.plot(nwf_results_npointings[npointings]['V']+1, nwf_results_npointings[npointings]['nsci_total'],'ks-', label=alg, color='grey', ms=8)\n",
    "\n",
    "npointings = 10\n",
    "plt.plot(nwf_results_npointings[npointings]['V']+1, nwf_results_npointings[npointings]['nsci_total'],'ks-', label=\"netflow\", color='grey', ms=8)\n",
    "\n",
    "l = plt.legend()\n",
    "l.draw_frame(False)\n",
    "\n",
    "plt.axhline(nsci_observable,ls=\":\",c='k')\n",
    "plt.text(1,nsci_observable+50,\"max # science targets observable\".format(nsci_observable),ha='left',va='bottom')\n",
    "plt.ylabel(\"# science targets observed\")\n",
    "plt.xlabel(\"pointing\")\n",
    "plt.ylim([500,8200])"
   ]
  },
  {
   "cell_type": "markdown",
   "metadata": {},
   "source": [
    "# New & auxiliary stuff"
   ]
  },
  {
   "cell_type": "code",
   "execution_count": null,
   "metadata": {
    "collapsed": true
   },
   "outputs": [],
   "source": [
    "# Sanity check, make sure all flows are integer:\n",
    "allflows = []\n",
    "for a in g.arcs.values():\n",
    "    k = '{}={}'.format(a.startnode.id,a.endnode.id)\n",
    "    if k in flows:\n",
    "        allflows.append(value(flows[k]))\n",
    "\n",
    "print(\"All flows are integer: {}\".format(all( unique(allflows)%1 == 0 )))\n"
   ]
  },
  {
   "cell_type": "code",
   "execution_count": null,
   "metadata": {
    "collapsed": true
   },
   "outputs": [],
   "source": [
    "# This is awsome rescue code. Ever found yourself deleing a call that had a \n",
    "# function implemented that you have been working on for hours?\n",
    "# This is how you recover it.\n",
    "if False:\n",
    "    def rescue_code(function):\n",
    "        import inspect\n",
    "        get_ipython().set_next_input(\"\".join(inspect.getsourcelines(function)[0]))\n",
    "\n",
    "    rescue_code(buildSurveyPlan)"
   ]
  },
  {
   "cell_type": "markdown",
   "metadata": {},
   "source": [
    "# Old stuff, just remaining as backup"
   ]
  },
  {
   "cell_type": "code",
   "execution_count": null,
   "metadata": {
    "collapsed": true
   },
   "outputs": [],
   "source": [
    "def computeStatsOld(g, flows, cost):\n",
    "    stats = OrderedDict()\n",
    "\n",
    "    NSciObs = 0\n",
    "    NSciComplete = 0\n",
    "    NCalObs = np.nan\n",
    "    NCalComplete = np.nan\n",
    "    NPOINTINGS = len(g.pointings)\n",
    "\n",
    "    for t in g.sciTargets.values():\n",
    "        NSciObs += pulp.value(sum([flows[a.id] for a in t.inarcs]))\n",
    "        NSciComplete += int(sum([pulp.value(flows[a.id]) for a in t.outarcs]) == t.gain)\n",
    "            \n",
    "    Noverflow = 0\n",
    "    for tcid, tc in g.sciTargetClasses.items():\n",
    "        Noverflow += int( pulp.value(flows['{}=SINK'.format(tcid)]) )\n",
    "\n",
    "    Ncobras_used = 0\n",
    "    Ncobras_fully_used = 0\n",
    "    for c in g.cobras.values():\n",
    "        v = pulp.value(sum([flows[a.id] for a in c.inarcs]))\n",
    "        Ncobras_used += int(v > 0)\n",
    "        Ncobras_fully_used += int(v == NPOINTINGS)\n",
    "        \n",
    "    stats['cost'] = pulp.value(cost)\n",
    "    stats['NSciObs'] = NSciObs\n",
    "    #stats['NCalObs'] = NCalObs\n",
    "    stats['NSciComplete'] = NSciComplete\n",
    "    #stats['NCalComplete'] = NCalComplete\n",
    "    stats['Noverflow'] = Noverflow\n",
    "    stats['Ncobras_used'] = Ncobras_used\n",
    "    stats['Ncobras_fully_used'] =  Ncobras_fully_used\n",
    "    \n",
    "\n",
    "    compl = {}\n",
    "    for stc in g.sciTargetClasses.values():\n",
    "        _NObs = 0\n",
    "        _NComplete = 0\n",
    "        for t in stc.targets.values(): \n",
    "            _NObs += int( pulp.value(sum([flows[a.id] for a in t.inarcs])) )\n",
    "            _NComplete += int(sum([pulp.value(flows[a.id]) for a in t.outarcs]) == t.gain)\n",
    "            \n",
    "        compl[stc.ID] = {'total' : len(stc.targets), 'observed' : _NObs, 'completed' : _NComplete}\n",
    "\n",
    "\n",
    "    stats['completion'] = compl\n",
    "\n",
    "    return stats\n"
   ]
  },
  {
   "cell_type": "code",
   "execution_count": null,
   "metadata": {
    "collapsed": true
   },
   "outputs": [],
   "source": [
    "# Martin's collision detection code\n",
    "\n",
    "def calc_pairs(loc, maxdist):\n",
    "    minx = np.min(loc.real)\n",
    "    maxx = np.max(loc.real)\n",
    "    miny = np.min(loc.imag)\n",
    "    maxy = np.max(loc.imag)\n",
    "    nbx = int((maxx-minx)/maxdist) + 1\n",
    "    nby = int((maxy-miny)/maxdist) + 1\n",
    "    bin = [[[] for j in range(nby)] for i in range(nbx)]\n",
    "    pair = []\n",
    "    for i in range(len(loc)):\n",
    "        bx = int((loc[i].real-minx)/maxdist)\n",
    "        by = int((loc[i].imag-miny)/maxdist)\n",
    "        bin[bx][by].append(i)\n",
    "    for bx in range(nbx):\n",
    "        for by in range(nby):\n",
    "            pos1 = loc[bin[bx][by]]\n",
    "            for bx2 in range(max(bx-1,0),min(bx+2, nbx)):\n",
    "               for by2 in range(max(by-1,0),min(by+2, nby)):\n",
    "                   pos2 = loc[bin[bx2][by2]]\n",
    "                   dist = np.abs(np.array(np.subtract.outer(np.array(pos1),np.array(pos2))))\n",
    "                   for i in range(dist.shape[0]):\n",
    "                       for j in range(dist.shape[1]):\n",
    "                           if dist[i][j]<maxdist:\n",
    "                               i1 = bin[bx][by][i]\n",
    "                               i2 = bin[bx2][by2][j]\n",
    "                               if i1<i2:\n",
    "                                   pair.append((i1,i2))\n",
    "    return pair\n",
    "\n",
    "import time\n",
    "pid = list( pointings.keys() )[0]\n",
    "\n",
    "targets = target_fplane_pos[pid]\n",
    "\n",
    "txx = np.array( [t[0] for tid, t in targets.items()] )\n",
    "tyy = np.array( [t[1] for tid, t in targets.items()] )\n",
    "\n",
    "print(\"Starts\")\n",
    "loc = np.array( [complex(x,y) for x,y in zip(txx, tyy)] )\n",
    "\n",
    "start_time = time.time()\n",
    "\n",
    "pp = calc_pairs(loc, maxdist=2) \n",
    "\n",
    "time_to_finish = time.time() - start_time\n",
    "print(\" Time to completion: {:.2f} s\".format(time_to_finish))\n",
    "    \n",
    "print( len(pp) , \" colliding pairs.\")\n",
    "\n",
    "\n",
    "#for p1id,p2id in pp:\n",
    "#    print(ID[p1id], ID[p2id])\n",
    "\n"
   ]
  }
 ],
 "metadata": {
  "celltoolbar": "Slideshow",
  "kernelspec": {
   "display_name": "Python 3",
   "language": "python",
   "name": "python3"
  },
  "language_info": {
   "codemirror_mode": {
    "name": "ipython",
    "version": 3
   },
   "file_extension": ".py",
   "mimetype": "text/x-python",
   "name": "python",
   "nbconvert_exporter": "python",
   "pygments_lexer": "ipython3",
   "version": "3.6.0"
  }
 },
 "nbformat": 4,
 "nbformat_minor": 2
}
